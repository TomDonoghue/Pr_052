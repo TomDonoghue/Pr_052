{
 "cells": [
  {
   "cell_type": "markdown",
   "metadata": {},
   "source": [
    "# COGS 108 - Capstone Project\n",
    "## Group Members:\n",
    "- Vincent Tierra   - A12654756\n",
    "- Adrian Herrmann  - A14202007\n",
    "- Lynley Yamaguchi - A12209358\n",
    "\n"
   ]
  },
  {
   "cell_type": "markdown",
   "metadata": {},
   "source": [
    "# Introduction and Background\n",
    "\n",
    "For most people, getting the flu means congestion, coughing, and bed-ridden fatigue for up to a week or two. The advent of modern medicine has reduced the illness from a lethal plague to a mere inconvenience. However, most of modern society has little fear for the flu, the illness still claims the lives of a surprising number of the population each year, which begs the question of how such a typically trivial ailment could have such serious effects on some. What separates those unlucky few from the rest?\n",
    "\n",
    "This past flu season, San Diego County recorded a staggering 85 influenza-related deaths along with 105 influenza-related ICU cases (HSSA). Our group was curious to see if a socioeconomic pattern might exist between these cases. If the data reveals that these occurrences are segregated to a particular demographic of people, the cause of the problem may be much more easily diagnosed and even prevented, by providing the proper aid to that demographic.\n",
    "\n",
    "A study by the Yale School of Public Health found that “residents of neighborhoods with high number of people living below the poverty line are twice as likely to be hospitalized for influenza” (Meyer). While their study is very similar to ours, the Yale School primarily studied a Connecticut site which differs from San Diego in a number of parameters including demographic distribution and climate. If our analysis yields a similar result, Yale School’s findings would support our hypothesis that higher flu mortality is linked to lower income regions, irrespective of race or weather variables.\n",
    "\n",
    "To analyze the data for our research question, we will pull out the data such as flu rate (hospitalization and discharge), the population in poverty, economic background, and population density. Utilizing the pandas library, we will compress the flu rate, median income and other values into regions with various hospitals. We will Try figuring out if income does indeed hold a significant impact on the spread of communicable diseases, specifically the flu. Using the t-test where discharge/hospitalization rate is dependent on income/poverty and other possible confounds with a confidence level of 0.05. We will then further our analysis by providing techniques to predict the flu rate dependent on the income of where an individual lives."
   ]
  },
  {
   "cell_type": "markdown",
   "metadata": {},
   "source": [
    "# Data Description\n",
    "\n",
    "- Dataset Name: Communicable Diseases (Flu Hospitalizations, Flu EDD)\n",
    "- Link to the dataset: http://www.sandiegocounty.gov/content/sdc/hhsa/programs/phs/community_health_statistics/regional-community-data.html\n",
    "- Number of observations: 41 (regions)\n",
    "\n",
    "The datasets on Communicable Diseases includes the number of flu hospitalizations and emergency department discharges per geographical area in San Diego. Information on the sex, race, and age range of the patients are also included.\n",
    "\n",
    "\n",
    "- Dataset Name: 2015 Demographic Profiles (Poverty Level, Income and Benefits)\n",
    "- Link to the dataset: http://www.sandiegocounty.gov/content/dam/sdc/hhsa/programs/phs/CHS/demographics/2015_Demographic_Profiles.pdf\n",
    "- Number of observations: 41 (regions)\n",
    "\n",
    "The datasets on Demographic Profiles include, per geographical area in San Diego County, the percentage of the population that is below the Federal Poverty Level, the total number of households, and the average household income.\n",
    "\n",
    "We ended up storing all our data into a single DataFrame. Including the median person per household income, important since this is the average income each person has in a given region and can be compared to the flu discharge and hospitalization rate. We need median income because it's the best way to capture central tendancy of income, which tends to be positively skewed.\n",
    "\n",
    "The flu discharge and hospitalization rates normalizes the population, which is important because we can't simply use the total number which the population would largely effect. This makes data appropriately comparable over every region.\n",
    "\n",
    "The amount of people of a given region in poverty is represented which does correlate with income but adds another interesting layer to look at since some areas with a higher median income still have more people in poverty than somewhere with a lower income.\n",
    "\n",
    "Finally we have the geography data. This tells us what to distribute the data into, each geography represents all of the above; discharge rate, hospitalization rate, median income per person, and poverty level. Each region is what is ultimately being grouped and compared."
   ]
  },
  {
   "cell_type": "code",
   "execution_count": 1,
   "metadata": {
    "collapsed": true
   },
   "outputs": [],
   "source": [
    "# Imports -  These are all you need for the assignment: do not import additional packages\n",
    "%matplotlib inline\n",
    "\n",
    "import pandas as pd\n",
    "import numpy as np\n",
    "import matplotlib.pyplot as plt\n",
    "from mpl_toolkits.mplot3d import Axes3D\n",
    "import patsy\n",
    "import statsmodels.api as sm\n",
    "from scipy.stats import ttest_ind"
   ]
  },
  {
   "cell_type": "markdown",
   "metadata": {},
   "source": [
    "# Loading & Cleaning the Data\n",
    "    \n",
    "Read in the following csv files:\n",
    "- Flu discharge rate by region\n",
    "- Flu hospitalization rate by region\n",
    "- Population below 100% poverty level by region\n",
    "- Median income per person household by region  "
   ]
  },
  {
   "cell_type": "code",
   "execution_count": 2,
   "metadata": {
    "collapsed": false
   },
   "outputs": [],
   "source": [
    "# Import the data from the files into Dataframes\n",
    "\n",
    "df_edd = pd.read_csv('FluEDD.csv')\n",
    "df_h = pd.read_csv('FluHospitalization.csv')\n",
    "df_poverty = pd.read_csv('SDPoverty.csv')\n",
    "df_median_income = pd.read_csv('SDMedianIncome.csv')"
   ]
  },
  {
   "cell_type": "markdown",
   "metadata": {},
   "source": [
    "Clean the data:\n",
    "\n",
    "- Replace empty values with 0\n",
    "- Drop unnecessary columns\n",
    "- Group duplicate values in region"
   ]
  },
  {
   "cell_type": "code",
   "execution_count": 3,
   "metadata": {
    "collapsed": false
   },
   "outputs": [],
   "source": [
    "# Replace NaN values with 0 \n",
    "\n",
    "df_edd.fillna(value=0, inplace=True)\n",
    "df_h.fillna(value=0, inplace=True)\n",
    "df_poverty.fillna(value=0,inplace=True)"
   ]
  },
  {
   "cell_type": "code",
   "execution_count": 4,
   "metadata": {
    "collapsed": false
   },
   "outputs": [],
   "source": [
    "# Drop unnecessary columns in hospital and discharge dataframe\n",
    "df_h.drop(['CONDITION', 'OUTCOME'], axis=1, inplace=True)\n",
    "df_edd.drop(['CONDITION', 'OUTCOME'], axis=1, inplace=True)"
   ]
  },
  {
   "cell_type": "code",
   "execution_count": 5,
   "metadata": {
    "collapsed": false
   },
   "outputs": [],
   "source": [
    "# Drop unnecessary columns in poverty dataframe\n",
    "df_p = df_poverty.drop(['Families below poverty level','Families with children under 18 years below poverty level'], axis=1)\n",
    "\n",
    "# Drop unnecessary columns in median income dataframe\n",
    "df_median_income.drop(['median_household_income', 'persons_per_household'], axis = 1, inplace = True)\n",
    "df_median_income = df_median_income[df_median_income['Geography'] != 'San Diego County']"
   ]
  },
  {
   "cell_type": "code",
   "execution_count": 6,
   "metadata": {
    "collapsed": false
   },
   "outputs": [],
   "source": [
    "# Create Dataframe with needed columns\n",
    "df_h = df_h[['YEAR', 'Geography', 'RegionName', 'Total_Rate']]\n",
    "df_edd = df_edd[['YEAR', 'Geography', 'RegionName', 'Total_Rate']]\n",
    "\n",
    "# Group the Geographies to get the average rate over all 4 years (for mean)\n",
    "df_h_mean = df_h.drop('YEAR', axis=1)\n",
    "df_edd_mean = df_edd.drop('YEAR', axis=1)\n",
    "df_h_mean = df_h_mean.groupby(['Geography', 'RegionName'], as_index=False).mean()\n",
    "df_edd_mean = df_edd_mean.groupby(['Geography', 'RegionName'], as_index=False).mean()\n",
    "\n",
    "# Drop regions which are only the total of other regions (repetitive)\n",
    "df_h_mean.drop([3, 9, 25, 26, 27, 36, 41], axis = 0, inplace=True)\n",
    "df_h_mean = df_h_mean.reset_index(drop=True)\n",
    "df_edd_mean.drop([3, 9, 25, 26, 27, 36, 41], axis=0, inplace=True)\n",
    "df_edd_mean = df_edd_mean.reset_index(drop=True)\n",
    "df_p_mean = df_p.drop([0, 4, 16, 24, 30, 41], axis = 0)\n",
    "df_p_mean = df_p_mean.reset_index(drop = True)"
   ]
  },
  {
   "cell_type": "markdown",
   "metadata": {},
   "source": [
    "Further organize data:\n",
    "\n",
    "- Rename columns to the standard\n",
    "- Merge datasets all into one called df\n",
    "- Manually enter missing values because dataset is not very large\n",
    "    - Can't afford to omit this data\n",
    "- Remove rows with zeros in both hospitalization and discharge\n",
    "    - These areas may have not been recorded and could skew the data"
   ]
  },
  {
   "cell_type": "code",
   "execution_count": 7,
   "metadata": {
    "collapsed": false
   },
   "outputs": [],
   "source": [
    "# Rename the total rate for h and edd\n",
    "df_h = df_h.rename(columns={ 'Total_Rate' : 'total_rate_h'})\n",
    "df_edd = df_edd.rename(columns={ 'Total_Rate' : 'total_rate_edd'})\n",
    "df_h_mean = df_h_mean.rename(columns={ 'Total_Rate' : 'total_rate_h'})\n",
    "df_edd_mean = df_edd_mean.rename(columns={ 'Total_Rate' : 'total_rate_edd'})"
   ]
  },
  {
   "cell_type": "code",
   "execution_count": 8,
   "metadata": {
    "collapsed": false,
    "scrolled": false
   },
   "outputs": [],
   "source": [
    "# Merge flu case, poverty, and median income data into one Dataframe\n",
    "df = df_median_income.merge(df_h_mean.merge(df_edd_mean, how='left', on=['Geography', 'RegionName']), how='right', on='Geography')\n",
    "df = df_p_mean.merge(df, how='right', on='Geography')\n",
    "df.rename(columns={'Geography': 'geography', 'RegionName' : 'region_name',  'Population below 100% federal poverty level (FPL)' \\\n",
    "                   : 'poverty_pop'}, inplace=True)\n",
    "\n",
    "# For separate years\n",
    "# Merge hospital data and poverty data into one Dataframe\n",
    "df_hp = pd.merge(df_h,df_p,on='Geography')\n",
    "\n",
    "# Manually enter some missing data\n",
    "df.set_value(40, 'pph_income', 27040 + 19341)\n",
    "df.set_value(39, 'pph_income', 33196)\n",
    "df.set_value(40, 'poverty_pop', 10.3 + 21.8)\n",
    "df.set_value(39, 'poverty_pop', 6.7)\n",
    "df.set_value(38, 'poverty_pop', 24.5)\n",
    "df.set_value(37, 'poverty_pop', 5.1)\n",
    "df.set_value(36, 'poverty_pop', 11.5)\n",
    "df.dropna(inplace=True)"
   ]
  },
  {
   "cell_type": "code",
   "execution_count": 9,
   "metadata": {
    "collapsed": false,
    "scrolled": true
   },
   "outputs": [
    {
     "data": {
      "text/html": [
       "<div>\n",
       "<table border=\"1\" class=\"dataframe\">\n",
       "  <thead>\n",
       "    <tr style=\"text-align: right;\">\n",
       "      <th></th>\n",
       "      <th>geography</th>\n",
       "      <th>poverty_pop</th>\n",
       "      <th>pph_income</th>\n",
       "      <th>region_name</th>\n",
       "      <th>total_rate_h</th>\n",
       "      <th>total_rate_edd</th>\n",
       "    </tr>\n",
       "  </thead>\n",
       "  <tbody>\n",
       "    <tr>\n",
       "      <th>0</th>\n",
       "      <td>Central San Diego</td>\n",
       "      <td>20.9</td>\n",
       "      <td>30516.0</td>\n",
       "      <td>CENTRAL</td>\n",
       "      <td>11.378619</td>\n",
       "      <td>69.931862</td>\n",
       "    </tr>\n",
       "    <tr>\n",
       "      <th>1</th>\n",
       "      <td>Mid-City</td>\n",
       "      <td>26.1</td>\n",
       "      <td>17541.0</td>\n",
       "      <td>CENTRAL</td>\n",
       "      <td>12.626990</td>\n",
       "      <td>84.877651</td>\n",
       "    </tr>\n",
       "    <tr>\n",
       "      <th>2</th>\n",
       "      <td>Southeastern San Diego</td>\n",
       "      <td>21.6</td>\n",
       "      <td>14444.0</td>\n",
       "      <td>CENTRAL</td>\n",
       "      <td>12.424052</td>\n",
       "      <td>111.980785</td>\n",
       "    </tr>\n",
       "    <tr>\n",
       "      <th>3</th>\n",
       "      <td>Alpine</td>\n",
       "      <td>8.7</td>\n",
       "      <td>31613.0</td>\n",
       "      <td>EAST</td>\n",
       "      <td>0.000000</td>\n",
       "      <td>37.622708</td>\n",
       "    </tr>\n",
       "    <tr>\n",
       "      <th>4</th>\n",
       "      <td>El Cajon</td>\n",
       "      <td>21.8</td>\n",
       "      <td>19341.0</td>\n",
       "      <td>EAST</td>\n",
       "      <td>13.295462</td>\n",
       "      <td>62.213675</td>\n",
       "    </tr>\n",
       "    <tr>\n",
       "      <th>5</th>\n",
       "      <td>Jamul</td>\n",
       "      <td>7.8</td>\n",
       "      <td>35779.0</td>\n",
       "      <td>EAST</td>\n",
       "      <td>0.000000</td>\n",
       "      <td>86.859562</td>\n",
       "    </tr>\n",
       "    <tr>\n",
       "      <th>6</th>\n",
       "      <td>La Mesa</td>\n",
       "      <td>12.0</td>\n",
       "      <td>24951.0</td>\n",
       "      <td>EAST</td>\n",
       "      <td>19.122542</td>\n",
       "      <td>70.301535</td>\n",
       "    </tr>\n",
       "    <tr>\n",
       "      <th>7</th>\n",
       "      <td>Lakeside</td>\n",
       "      <td>11.1</td>\n",
       "      <td>25063.0</td>\n",
       "      <td>EAST</td>\n",
       "      <td>3.058264</td>\n",
       "      <td>43.094199</td>\n",
       "    </tr>\n",
       "    <tr>\n",
       "      <th>8</th>\n",
       "      <td>Lemon Grove</td>\n",
       "      <td>15.2</td>\n",
       "      <td>19266.0</td>\n",
       "      <td>EAST</td>\n",
       "      <td>11.622501</td>\n",
       "      <td>90.653971</td>\n",
       "    </tr>\n",
       "    <tr>\n",
       "      <th>9</th>\n",
       "      <td>Mountain Empire</td>\n",
       "      <td>21.2</td>\n",
       "      <td>19672.0</td>\n",
       "      <td>EAST</td>\n",
       "      <td>0.000000</td>\n",
       "      <td>17.466232</td>\n",
       "    </tr>\n",
       "    <tr>\n",
       "      <th>10</th>\n",
       "      <td>Santee</td>\n",
       "      <td>8.0</td>\n",
       "      <td>28310.0</td>\n",
       "      <td>EAST</td>\n",
       "      <td>9.107853</td>\n",
       "      <td>51.466463</td>\n",
       "    </tr>\n",
       "    <tr>\n",
       "      <th>11</th>\n",
       "      <td>Spring Valley</td>\n",
       "      <td>13.2</td>\n",
       "      <td>22627.0</td>\n",
       "      <td>EAST</td>\n",
       "      <td>8.208334</td>\n",
       "      <td>68.216132</td>\n",
       "    </tr>\n",
       "    <tr>\n",
       "      <th>12</th>\n",
       "      <td>Del Mar-Mira Mesa</td>\n",
       "      <td>6.3</td>\n",
       "      <td>39136.0</td>\n",
       "      <td>N CENTRAL</td>\n",
       "      <td>7.195358</td>\n",
       "      <td>31.403106</td>\n",
       "    </tr>\n",
       "    <tr>\n",
       "      <th>13</th>\n",
       "      <td>Kearny Mesa</td>\n",
       "      <td>13.8</td>\n",
       "      <td>27608.0</td>\n",
       "      <td>N CENTRAL</td>\n",
       "      <td>11.287159</td>\n",
       "      <td>70.993003</td>\n",
       "    </tr>\n",
       "    <tr>\n",
       "      <th>14</th>\n",
       "      <td>Peninsula</td>\n",
       "      <td>10.2</td>\n",
       "      <td>36935.0</td>\n",
       "      <td>N CENTRAL</td>\n",
       "      <td>1.990002</td>\n",
       "      <td>23.812054</td>\n",
       "    </tr>\n",
       "    <tr>\n",
       "      <th>15</th>\n",
       "      <td>University</td>\n",
       "      <td>22.9</td>\n",
       "      <td>33840.0</td>\n",
       "      <td>N CENTRAL</td>\n",
       "      <td>6.563813</td>\n",
       "      <td>37.412139</td>\n",
       "    </tr>\n",
       "    <tr>\n",
       "      <th>16</th>\n",
       "      <td>Carlsbad</td>\n",
       "      <td>10.4</td>\n",
       "      <td>35452.0</td>\n",
       "      <td>N COASTAL</td>\n",
       "      <td>5.735095</td>\n",
       "      <td>42.423500</td>\n",
       "    </tr>\n",
       "    <tr>\n",
       "      <th>17</th>\n",
       "      <td>Oceanside</td>\n",
       "      <td>14.7</td>\n",
       "      <td>22543.0</td>\n",
       "      <td>N COASTAL</td>\n",
       "      <td>8.062086</td>\n",
       "      <td>96.427121</td>\n",
       "    </tr>\n",
       "    <tr>\n",
       "      <th>18</th>\n",
       "      <td>San Dieguito</td>\n",
       "      <td>8.3</td>\n",
       "      <td>42388.0</td>\n",
       "      <td>N COASTAL</td>\n",
       "      <td>6.496004</td>\n",
       "      <td>43.659499</td>\n",
       "    </tr>\n",
       "    <tr>\n",
       "      <th>19</th>\n",
       "      <td>Vista</td>\n",
       "      <td>16.7</td>\n",
       "      <td>18385.0</td>\n",
       "      <td>N COASTAL</td>\n",
       "      <td>7.570894</td>\n",
       "      <td>104.319989</td>\n",
       "    </tr>\n",
       "    <tr>\n",
       "      <th>20</th>\n",
       "      <td>Escondido</td>\n",
       "      <td>17.6</td>\n",
       "      <td>19976.0</td>\n",
       "      <td>N INLAND</td>\n",
       "      <td>15.727572</td>\n",
       "      <td>66.755569</td>\n",
       "    </tr>\n",
       "    <tr>\n",
       "      <th>21</th>\n",
       "      <td>Fallbrook</td>\n",
       "      <td>16.2</td>\n",
       "      <td>23686.0</td>\n",
       "      <td>N INLAND</td>\n",
       "      <td>5.678650</td>\n",
       "      <td>49.809367</td>\n",
       "    </tr>\n",
       "    <tr>\n",
       "      <th>22</th>\n",
       "      <td>North San Diego</td>\n",
       "      <td>4.9</td>\n",
       "      <td>36284.0</td>\n",
       "      <td>N INLAND</td>\n",
       "      <td>13.334754</td>\n",
       "      <td>42.306686</td>\n",
       "    </tr>\n",
       "    <tr>\n",
       "      <th>23</th>\n",
       "      <td>Palomar-Julian</td>\n",
       "      <td>16.2</td>\n",
       "      <td>32195.0</td>\n",
       "      <td>N INLAND</td>\n",
       "      <td>0.000000</td>\n",
       "      <td>18.985419</td>\n",
       "    </tr>\n",
       "    <tr>\n",
       "      <th>24</th>\n",
       "      <td>Ramona</td>\n",
       "      <td>8.0</td>\n",
       "      <td>28289.0</td>\n",
       "      <td>N INLAND</td>\n",
       "      <td>6.279479</td>\n",
       "      <td>44.207255</td>\n",
       "    </tr>\n",
       "    <tr>\n",
       "      <th>25</th>\n",
       "      <td>San Marcos</td>\n",
       "      <td>15.7</td>\n",
       "      <td>20092.0</td>\n",
       "      <td>N INLAND</td>\n",
       "      <td>7.375737</td>\n",
       "      <td>61.371413</td>\n",
       "    </tr>\n",
       "    <tr>\n",
       "      <th>26</th>\n",
       "      <td>Valley Center</td>\n",
       "      <td>12.4</td>\n",
       "      <td>27962.0</td>\n",
       "      <td>N INLAND</td>\n",
       "      <td>8.451299</td>\n",
       "      <td>29.635208</td>\n",
       "    </tr>\n",
       "    <tr>\n",
       "      <th>27</th>\n",
       "      <td>Chula Vista</td>\n",
       "      <td>19.0</td>\n",
       "      <td>16164.0</td>\n",
       "      <td>SOUTH</td>\n",
       "      <td>22.588285</td>\n",
       "      <td>170.312633</td>\n",
       "    </tr>\n",
       "    <tr>\n",
       "      <th>28</th>\n",
       "      <td>Coronado</td>\n",
       "      <td>6.0</td>\n",
       "      <td>52151.0</td>\n",
       "      <td>SOUTH</td>\n",
       "      <td>0.000000</td>\n",
       "      <td>38.469871</td>\n",
       "    </tr>\n",
       "    <tr>\n",
       "      <th>29</th>\n",
       "      <td>South Bay</td>\n",
       "      <td>18.5</td>\n",
       "      <td>14673.0</td>\n",
       "      <td>SOUTH</td>\n",
       "      <td>14.708436</td>\n",
       "      <td>113.623840</td>\n",
       "    </tr>\n",
       "    <tr>\n",
       "      <th>30</th>\n",
       "      <td>Sweetwater</td>\n",
       "      <td>7.5</td>\n",
       "      <td>28465.0</td>\n",
       "      <td>SOUTH</td>\n",
       "      <td>2.289668</td>\n",
       "      <td>52.391688</td>\n",
       "    </tr>\n",
       "    <tr>\n",
       "      <th>31</th>\n",
       "      <td>Coastal</td>\n",
       "      <td>11.5</td>\n",
       "      <td>50467.0</td>\n",
       "      <td>N CENTRAL</td>\n",
       "      <td>9.224997</td>\n",
       "      <td>38.244681</td>\n",
       "    </tr>\n",
       "    <tr>\n",
       "      <th>32</th>\n",
       "      <td>Poway</td>\n",
       "      <td>5.1</td>\n",
       "      <td>38591.0</td>\n",
       "      <td>N INLAND</td>\n",
       "      <td>10.007595</td>\n",
       "      <td>37.726160</td>\n",
       "    </tr>\n",
       "    <tr>\n",
       "      <th>33</th>\n",
       "      <td>National City</td>\n",
       "      <td>24.5</td>\n",
       "      <td>12209.0</td>\n",
       "      <td>SOUTH</td>\n",
       "      <td>9.389687</td>\n",
       "      <td>108.819231</td>\n",
       "    </tr>\n",
       "    <tr>\n",
       "      <th>34</th>\n",
       "      <td>Elliott-Navajo</td>\n",
       "      <td>6.7</td>\n",
       "      <td>33196.0</td>\n",
       "      <td>N CENTRAL</td>\n",
       "      <td>9.423720</td>\n",
       "      <td>39.122035</td>\n",
       "    </tr>\n",
       "    <tr>\n",
       "      <th>35</th>\n",
       "      <td>Harbison Crest/El Cajon</td>\n",
       "      <td>32.1</td>\n",
       "      <td>46381.0</td>\n",
       "      <td>EAST</td>\n",
       "      <td>19.716238</td>\n",
       "      <td>89.583516</td>\n",
       "    </tr>\n",
       "  </tbody>\n",
       "</table>\n",
       "</div>"
      ],
      "text/plain": [
       "                  geography  poverty_pop  pph_income region_name  \\\n",
       "0         Central San Diego         20.9     30516.0     CENTRAL   \n",
       "1                  Mid-City         26.1     17541.0     CENTRAL   \n",
       "2    Southeastern San Diego         21.6     14444.0     CENTRAL   \n",
       "3                    Alpine          8.7     31613.0        EAST   \n",
       "4                  El Cajon         21.8     19341.0        EAST   \n",
       "5                     Jamul          7.8     35779.0        EAST   \n",
       "6                   La Mesa         12.0     24951.0        EAST   \n",
       "7                  Lakeside         11.1     25063.0        EAST   \n",
       "8               Lemon Grove         15.2     19266.0        EAST   \n",
       "9           Mountain Empire         21.2     19672.0        EAST   \n",
       "10                   Santee          8.0     28310.0        EAST   \n",
       "11            Spring Valley         13.2     22627.0        EAST   \n",
       "12        Del Mar-Mira Mesa          6.3     39136.0   N CENTRAL   \n",
       "13              Kearny Mesa         13.8     27608.0   N CENTRAL   \n",
       "14                Peninsula         10.2     36935.0   N CENTRAL   \n",
       "15               University         22.9     33840.0   N CENTRAL   \n",
       "16                 Carlsbad         10.4     35452.0   N COASTAL   \n",
       "17                Oceanside         14.7     22543.0   N COASTAL   \n",
       "18             San Dieguito          8.3     42388.0   N COASTAL   \n",
       "19                    Vista         16.7     18385.0   N COASTAL   \n",
       "20                Escondido         17.6     19976.0    N INLAND   \n",
       "21                Fallbrook         16.2     23686.0    N INLAND   \n",
       "22          North San Diego          4.9     36284.0    N INLAND   \n",
       "23           Palomar-Julian         16.2     32195.0    N INLAND   \n",
       "24                   Ramona          8.0     28289.0    N INLAND   \n",
       "25               San Marcos         15.7     20092.0    N INLAND   \n",
       "26            Valley Center         12.4     27962.0    N INLAND   \n",
       "27              Chula Vista         19.0     16164.0       SOUTH   \n",
       "28                 Coronado          6.0     52151.0       SOUTH   \n",
       "29                South Bay         18.5     14673.0       SOUTH   \n",
       "30               Sweetwater          7.5     28465.0       SOUTH   \n",
       "31                  Coastal         11.5     50467.0   N CENTRAL   \n",
       "32                    Poway          5.1     38591.0    N INLAND   \n",
       "33            National City         24.5     12209.0       SOUTH   \n",
       "34           Elliott-Navajo          6.7     33196.0   N CENTRAL   \n",
       "35  Harbison Crest/El Cajon         32.1     46381.0        EAST   \n",
       "\n",
       "    total_rate_h  total_rate_edd  \n",
       "0      11.378619       69.931862  \n",
       "1      12.626990       84.877651  \n",
       "2      12.424052      111.980785  \n",
       "3       0.000000       37.622708  \n",
       "4      13.295462       62.213675  \n",
       "5       0.000000       86.859562  \n",
       "6      19.122542       70.301535  \n",
       "7       3.058264       43.094199  \n",
       "8      11.622501       90.653971  \n",
       "9       0.000000       17.466232  \n",
       "10      9.107853       51.466463  \n",
       "11      8.208334       68.216132  \n",
       "12      7.195358       31.403106  \n",
       "13     11.287159       70.993003  \n",
       "14      1.990002       23.812054  \n",
       "15      6.563813       37.412139  \n",
       "16      5.735095       42.423500  \n",
       "17      8.062086       96.427121  \n",
       "18      6.496004       43.659499  \n",
       "19      7.570894      104.319989  \n",
       "20     15.727572       66.755569  \n",
       "21      5.678650       49.809367  \n",
       "22     13.334754       42.306686  \n",
       "23      0.000000       18.985419  \n",
       "24      6.279479       44.207255  \n",
       "25      7.375737       61.371413  \n",
       "26      8.451299       29.635208  \n",
       "27     22.588285      170.312633  \n",
       "28      0.000000       38.469871  \n",
       "29     14.708436      113.623840  \n",
       "30      2.289668       52.391688  \n",
       "31      9.224997       38.244681  \n",
       "32     10.007595       37.726160  \n",
       "33      9.389687      108.819231  \n",
       "34      9.423720       39.122035  \n",
       "35     19.716238       89.583516  "
      ]
     },
     "execution_count": 9,
     "metadata": {},
     "output_type": "execute_result"
    }
   ],
   "source": [
    "# Clean the dataset incase of missing values to avoid skewing\n",
    "df = df[(df['total_rate_h'] != 0) | (df['total_rate_edd'] != 0)]\n",
    "df = df.reset_index(drop=True)\n",
    "\n",
    "# Display the combined dataset for the mean rate over years\n",
    "df"
   ]
  },
  {
   "cell_type": "markdown",
   "metadata": {},
   "source": [
    "# Data Exploration"
   ]
  },
  {
   "cell_type": "markdown",
   "metadata": {},
   "source": [
    "## Visualization\n",
    "\n",
    "Plot various data:\n",
    "\n",
    "- Plot a scatter matrix to get a feel for the data\n",
    "- Plot a correlation matrix to see if it looks like there will be significant correlations early one\n",
    "- Plot various histograms to get a general understanding for the data"
   ]
  },
  {
   "cell_type": "code",
   "execution_count": 10,
   "metadata": {
    "collapsed": false
   },
   "outputs": [
    {
     "data": {
      "image/png": "[encoded data removed]",
      "text/plain": [
       "<matplotlib.figure.Figure at 0x2637c40fcc0>"
      ]
     },
     "metadata": {},
     "output_type": "display_data"
    }
   ],
   "source": [
    "# Plot the scatter matrix for all data\n",
    "fig = pd.scatter_matrix(df)"
   ]
  },
  {
   "cell_type": "markdown",
   "metadata": {},
   "source": [
    "From the scatter matrix we can roughly make out some correlations, let's more clearly see how strong they are in a heatmap."
   ]
  },
  {
   "cell_type": "code",
   "execution_count": 11,
   "metadata": {
    "collapsed": false
   },
   "outputs": [
    {
     "data": {
      "image/png": "[encoded data removed]",
      "text/plain": [
       "<matplotlib.figure.Figure at 0x2637d9e8208>"
      ]
     },
     "metadata": {},
     "output_type": "display_data"
    }
   ],
   "source": [
    "# Define correlations and columns\n",
    "correlations = df.corr()\n",
    "columns = ['poverty_pop', 'pph_income', 'total_rate_h', 'total_rate_edd']\n",
    "\n",
    "# Plot the correlation matrix\n",
    "fig = plt.figure()\n",
    "ax = fig.add_subplot(1, 1, 1)\n",
    "cax = ax.matshow(correlations, vmin=-1, vmax=1)\n",
    "fig.colorbar(cax)\n",
    "ticks = np.arange(0, 4, 1)\n",
    "ax.set_xticks(ticks)\n",
    "ax.set_yticks(ticks)\n",
    "ax.set_xticklabels(columns)\n",
    "ax.set_yticklabels(columns)\n",
    "plt.show()"
   ]
  },
  {
   "cell_type": "markdown",
   "metadata": {},
   "source": [
    "The heatmap tells us early on that there are some light correlations, one of the stronger being discharge rate and median income which are negatively correlated. So far things are looking good."
   ]
  },
  {
   "cell_type": "code",
   "execution_count": 12,
   "metadata": {
    "collapsed": false,
    "scrolled": false
   },
   "outputs": [
    {
     "data": {
      "image/png": "[encoded data removed]",
      "text/plain": [
       "<matplotlib.figure.Figure at 0x26378711208>"
      ]
     },
     "metadata": {},
     "output_type": "display_data"
    }
   ],
   "source": [
    "# Use density plots to view the data\n",
    "df.plot(kind='density', subplots=True, sharex=False)\n",
    "plt.show()"
   ]
  },
  {
   "cell_type": "markdown",
   "metadata": {},
   "source": [
    "We can see each of the columns of data follow a rough normal distribution. Their histograms give us some more details"
   ]
  },
  {
   "cell_type": "code",
   "execution_count": 13,
   "metadata": {
    "collapsed": false,
    "scrolled": true
   },
   "outputs": [
    {
     "data": {
      "image/png": "[encoded data removed]",
      "text/plain": [
       "<matplotlib.figure.Figure at 0x2637e2ab940>"
      ]
     },
     "metadata": {},
     "output_type": "display_data"
    }
   ],
   "source": [
    "# Plot histogram for hospitalized and discharged patients as one\n",
    "df['total_rate_h'].add(df['total_rate_edd']).hist()\n",
    "\n",
    "f1 = plt.gcf"
   ]
  },
  {
   "cell_type": "code",
   "execution_count": 14,
   "metadata": {
    "collapsed": false,
    "scrolled": true
   },
   "outputs": [
    {
     "data": {
      "image/png": "[encoded data removed]",
      "text/plain": [
       "<matplotlib.figure.Figure at 0x2637e2bbe10>"
      ]
     },
     "metadata": {},
     "output_type": "display_data"
    }
   ],
   "source": [
    "# Plot histogram for poverty\n",
    "df['poverty_pop'].hist()\n",
    "\n",
    "f2 = plt.gcf"
   ]
  },
  {
   "cell_type": "code",
   "execution_count": 15,
   "metadata": {
    "collapsed": false,
    "scrolled": true
   },
   "outputs": [
    {
     "data": {
      "image/png": "[encoded data removed]",
      "text/plain": [
       "<matplotlib.figure.Figure at 0x2637e47c828>"
      ]
     },
     "metadata": {},
     "output_type": "display_data"
    }
   ],
   "source": [
    "# Plot histogram for person per household income\n",
    "df['pph_income'].hist()\n",
    "\n",
    "f3 = plt.gcf"
   ]
  },
  {
   "cell_type": "markdown",
   "metadata": {},
   "source": [
    "## Exploring The Data\n",
    "\n",
    "Here we calculate the ratio of hospitalization to discharge below and above the mean and find that they are fairly close to one another. This may mean hospitalization increases at the same rate as discharge in areas greater effected."
   ]
  },
  {
   "cell_type": "code",
   "execution_count": 16,
   "metadata": {
    "collapsed": true
   },
   "outputs": [],
   "source": [
    "# Split incomes into below and above the median\n",
    "income_median = df['pph_income'].median()\n",
    "df_income_below = df[df['pph_income'] < income_median]\n",
    "df_income_above = df[df['pph_income'] >= income_median]"
   ]
  },
  {
   "cell_type": "code",
   "execution_count": 17,
   "metadata": {
    "collapsed": true
   },
   "outputs": [],
   "source": [
    "# Calculate the ratio between hospitalized and discharged patients\n",
    "ratio_below = df_income_below['total_rate_h'].mean()/df_income_below['total_rate_edd'].mean()\n",
    "ratio_above = df_income_above['total_rate_h'].mean()/df_income_above['total_rate_edd'].mean()"
   ]
  },
  {
   "cell_type": "code",
   "execution_count": 18,
   "metadata": {
    "collapsed": false
   },
   "outputs": [
    {
     "name": "stdout",
     "output_type": "stream",
     "text": [
      "Ratio hospitalization to discharge rate in areas below the mean:  0.1345638539137013\n",
      "Ratio hospitalization to discharge rate in areas above the mean:  0.14382163094032022\n"
     ]
    }
   ],
   "source": [
    "# Print the ratios\n",
    "print('Ratio hospitalization to discharge rate in areas below the mean: ', ratio_below)\n",
    "print('Ratio hospitalization to discharge rate in areas above the mean: ', ratio_above)"
   ]
  },
  {
   "cell_type": "markdown",
   "metadata": {},
   "source": [
    "The values held in areas with maximum and minimum poverty and median income are displayed"
   ]
  },
  {
   "cell_type": "code",
   "execution_count": 19,
   "metadata": {
    "collapsed": false
   },
   "outputs": [
    {
     "name": "stdout",
     "output_type": "stream",
     "text": [
      "Area With Greatest Population in Poverty: Harbison Crest/El Cajon\n",
      "Person Per Household Income: 46381.0\n",
      "Flu Hospitalization Rate: 19.7162381125\n",
      "Flu Discharge Rate: 89.583516245\n",
      "\n",
      "Area With Lowest Population in Poverty: North San Diego\n",
      "Person Per Household Income: 36284.0\n",
      "Flu Hospitalization Rate: 13.33475445\n",
      "Flu Discharge Rate: 42.3066855725\n"
     ]
    }
   ],
   "source": [
    "# Determine the area with the lowest and highest income\n",
    "max_i = df['poverty_pop'].idxmax\n",
    "min_i = df['poverty_pop'].idxmin\n",
    "\n",
    "# print out the information of these areas\n",
    "print('Area With Greatest Population in Poverty: ' + str(df.loc[max_i, 'geography']) + '\\nPerson Per Household Income: ' + \\\n",
    "      str(df.loc[max_i, 'pph_income']) + '\\nFlu Hospitalization Rate: ' + str(df.loc[max_i, 'total_rate_h']) + \\\n",
    "      '\\nFlu Discharge Rate: ' + str(df.loc[max_i, 'total_rate_edd']))\n",
    "\n",
    "print('\\nArea With Lowest Population in Poverty: ' + str(df.loc[min_i, 'geography']) + '\\nPerson Per Household Income: ' + \\\n",
    "      str(df.loc[min_i, 'pph_income']) + '\\nFlu Hospitalization Rate: ' + str(df.loc[min_i, 'total_rate_h']) + \\\n",
    "      '\\nFlu Discharge Rate: ' + str(df.loc[min_i, 'total_rate_edd']))"
   ]
  },
  {
   "cell_type": "markdown",
   "metadata": {},
   "source": [
    "The area with the greatest poverty population has a higher median income but that's only because the area has a greater population itself. What is interesting though is that the flu discharge rate is greater in this area too."
   ]
  },
  {
   "cell_type": "code",
   "execution_count": 20,
   "metadata": {
    "collapsed": false
   },
   "outputs": [
    {
     "name": "stdout",
     "output_type": "stream",
     "text": [
      "Area With Greatest Income: Coronado\n",
      "Person Per Household Income: 52151.0\n",
      "Flu Hospitalization Rate: 0.0\n",
      "Flu Discharge Rate: 38.46987107\n",
      "\n",
      "Area With Lowest Income: National City\n",
      "Person Per Household Income: 12209.0\n",
      "Flu Hospitalization Rate: 9.3896874575\n",
      "Flu Discharge Rate: 108.819230885\n"
     ]
    }
   ],
   "source": [
    "# Determine the area with the lowest and highest income\n",
    "max_i = df['pph_income'].idxmax\n",
    "min_i = df['pph_income'].idxmin\n",
    "\n",
    "# print out the information of these areas\n",
    "print('Area With Greatest Income: ' + str(df.loc[max_i, 'geography']) + '\\nPerson Per Household Income: ' + \\\n",
    "      str(df.loc[max_i, 'pph_income']) + '\\nFlu Hospitalization Rate: ' + str(df.loc[max_i, 'total_rate_h']) + \\\n",
    "      '\\nFlu Discharge Rate: ' + str(df.loc[max_i, 'total_rate_edd']))\n",
    "\n",
    "print('\\nArea With Lowest Income: ' + str(df.loc[min_i, 'geography']) + '\\nPerson Per Household Income: ' + \\\n",
    "      str(df.loc[min_i, 'pph_income']) + '\\nFlu Hospitalization Rate: ' + str(df.loc[min_i, 'total_rate_h']) + \\\n",
    "      '\\nFlu Discharge Rate: ' + str(df.loc[min_i, 'total_rate_edd']))"
   ]
  },
  {
   "cell_type": "markdown",
   "metadata": {},
   "source": [
    "Here at the extreme values the flu hospitalization and discharge rate fit our predictions."
   ]
  },
  {
   "cell_type": "markdown",
   "metadata": {},
   "source": [
    "## Part 4: Data Analysis\n",
    "\n",
    "Using the t-test to determine a significant difference\n",
    "- We do not have two separate distributions to test yet, so we must make them\n",
    "    - First we find the means of discharge and hospitalization rate\n",
    "    - Next we split areas into those below and above this mean\n",
    "    - We now have two distributions to compare with a t-test"
   ]
  },
  {
   "cell_type": "code",
   "execution_count": 21,
   "metadata": {
    "collapsed": false
   },
   "outputs": [],
   "source": [
    "# Calculate the means for hospitalized and discharged patients\n",
    "h_rate_median = df['total_rate_h'].median()\n",
    "edd_rate_median = df['total_rate_edd'].median()"
   ]
  },
  {
   "cell_type": "code",
   "execution_count": 22,
   "metadata": {
    "collapsed": false,
    "scrolled": false
   },
   "outputs": [
    {
     "name": "stdout",
     "output_type": "stream",
     "text": [
      "Median flu hospitalization rate:  8.329816449\n",
      "Median flu discharge rate:  51.9290756125\n"
     ]
    }
   ],
   "source": [
    "# Print the means\n",
    "print(\"Median flu hospitalization rate: \", h_rate_median)\n",
    "print(\"Median flu discharge rate: \", edd_rate_median)"
   ]
  },
  {
   "cell_type": "code",
   "execution_count": 23,
   "metadata": {
    "collapsed": false
   },
   "outputs": [],
   "source": [
    "# Create DataFrames for incomes below and above the mean rates\n",
    "h_rate_below = df[df['total_rate_h'] < h_rate_median]['pph_income']\n",
    "h_rate_above = df[df['total_rate_h'] >= h_rate_median]['pph_income']\n",
    "edd_rate_below = df[df['total_rate_edd'] < edd_rate_median]['pph_income']\n",
    "edd_rate_above = df[df['total_rate_edd'] >= edd_rate_median]['pph_income']"
   ]
  },
  {
   "cell_type": "code",
   "execution_count": 24,
   "metadata": {
    "collapsed": false
   },
   "outputs": [],
   "source": [
    "# Use t-test on incomes of areas below or above mean discharge and hospitalization rates\n",
    "t, p_h = ttest_ind(h_rate_above, h_rate_below)\n",
    "t, p_edd = ttest_ind(edd_rate_above, edd_rate_below)"
   ]
  },
  {
   "cell_type": "code",
   "execution_count": 25,
   "metadata": {
    "collapsed": false,
    "scrolled": true
   },
   "outputs": [
    {
     "name": "stdout",
     "output_type": "stream",
     "text": [
      "Hospitalization two-tailed p-value:  0.254059873579\n",
      "Discharge two-tailed p-value:  0.000321106320269\n"
     ]
    }
   ],
   "source": [
    "# Print the p-values\n",
    "print('Hospitalization two-tailed p-value: ', p_h)\n",
    "print('Discharge two-tailed p-value: ', p_edd)"
   ]
  },
  {
   "cell_type": "markdown",
   "metadata": {},
   "source": [
    "The p-value of the hospitalization rate is not low enough to rely on. This could be due to areas with lower income having greater need for hospitalization but less money to justify the cost.\n",
    "\n",
    "The p-value of the discharge rate is fairly low, indicating median income in areas with high vs low discharge rates are significantly different. Let's create a linear model and print out the summary between flu discharge rate and income."
   ]
  },
  {
   "cell_type": "code",
   "execution_count": 26,
   "metadata": {
    "collapsed": false
   },
   "outputs": [
    {
     "ename": "NameError",
     "evalue": "name 'df2' is not defined",
     "output_type": "error",
     "traceback": [
      "\u001b[0;31m---------------------------------------------------------------------------\u001b[0m",
      "\u001b[0;31mNameError\u001b[0m                                 Traceback (most recent call last)",
      "\u001b[0;32m<ipython-input-26-c96a7706fba7>\u001b[0m in \u001b[0;36m<module>\u001b[0;34m()\u001b[0m\n\u001b[1;32m      1\u001b[0m \u001b[1;31m# Create linear model to predict discharge rate from income\u001b[0m\u001b[1;33m\u001b[0m\u001b[1;33m\u001b[0m\u001b[0m\n\u001b[0;32m----> 2\u001b[0;31m \u001b[0moutcome_1\u001b[0m\u001b[1;33m,\u001b[0m \u001b[0mpredictors_1\u001b[0m \u001b[1;33m=\u001b[0m \u001b[0mpatsy\u001b[0m\u001b[1;33m.\u001b[0m\u001b[0mdmatrices\u001b[0m\u001b[1;33m(\u001b[0m\u001b[1;34m'total_rate_edd ~ pph_income'\u001b[0m\u001b[1;33m,\u001b[0m \u001b[0mdf2\u001b[0m\u001b[1;33m)\u001b[0m\u001b[1;33m\u001b[0m\u001b[0m\n\u001b[0m\u001b[1;32m      3\u001b[0m \u001b[0mmod_1\u001b[0m \u001b[1;33m=\u001b[0m \u001b[0msm\u001b[0m\u001b[1;33m.\u001b[0m\u001b[0mOLS\u001b[0m\u001b[1;33m(\u001b[0m\u001b[0moutcome_1\u001b[0m\u001b[1;33m,\u001b[0m \u001b[0mpredictors_1\u001b[0m\u001b[1;33m)\u001b[0m\u001b[1;33m\u001b[0m\u001b[0m\n\u001b[1;32m      4\u001b[0m \u001b[0mres_1\u001b[0m \u001b[1;33m=\u001b[0m \u001b[0mmod_1\u001b[0m\u001b[1;33m.\u001b[0m\u001b[0mfit\u001b[0m\u001b[1;33m(\u001b[0m\u001b[1;33m)\u001b[0m\u001b[1;33m\u001b[0m\u001b[0m\n",
      "\u001b[0;31mNameError\u001b[0m: name 'df2' is not defined"
     ]
    }
   ],
   "source": [
    "# Create linear model to predict discharge rate from income\n",
    "outcome_1, predictors_1 = patsy.dmatrices('total_rate_edd ~ pph_income', df2)\n",
    "mod_1 = sm.OLS(outcome_1, predictors_1)\n",
    "res_1 = mod_1.fit()"
   ]
  },
  {
   "cell_type": "code",
   "execution_count": 27,
   "metadata": {
    "collapsed": false
   },
   "outputs": [
    {
     "ename": "NameError",
     "evalue": "name 'res_1' is not defined",
     "output_type": "error",
     "traceback": [
      "\u001b[0;31m---------------------------------------------------------------------------\u001b[0m",
      "\u001b[0;31mNameError\u001b[0m                                 Traceback (most recent call last)",
      "\u001b[0;32m<ipython-input-27-8bea532a33f5>\u001b[0m in \u001b[0;36m<module>\u001b[0;34m()\u001b[0m\n\u001b[0;32m----> 1\u001b[0;31m \u001b[0mprint\u001b[0m\u001b[1;33m(\u001b[0m\u001b[0mres_1\u001b[0m\u001b[1;33m.\u001b[0m\u001b[0msummary\u001b[0m\u001b[1;33m(\u001b[0m\u001b[1;33m)\u001b[0m\u001b[1;33m)\u001b[0m\u001b[1;33m\u001b[0m\u001b[0m\n\u001b[0m",
      "\u001b[0;31mNameError\u001b[0m: name 'res_1' is not defined"
     ]
    }
   ],
   "source": [
    "print(res_1.summary())"
   ]
  },
  {
   "cell_type": "markdown",
   "metadata": {},
   "source": [
    "Since the flu is a communicable disease, we want to check if population size makes a difference. Areas with lower income may simply have a denser population which would give a third variable problem.\n",
    "\n",
    "We will:\n",
    "- load the csv data for population in different regions of San Diego\n",
    "- Merge the population DataFrame into df2\n",
    "    - Some rows will be lost so we do not want to keep using the dataset including population\n",
    "- Calculate the population mean\n",
    "- use the t-test dependent on income and population"
   ]
  },
  {
   "cell_type": "code",
   "execution_count": 28,
   "metadata": {
    "collapsed": false
   },
   "outputs": [],
   "source": [
    "# Import the population data\n",
    "df_pop = pd.read_csv('SDPopulation.csv')\n",
    "\n",
    "# Merge in separate DataFrame to avoid losing more data\n",
    "df2 = df.merge(df_pop, on='geography')"
   ]
  },
  {
   "cell_type": "code",
   "execution_count": 29,
   "metadata": {
    "collapsed": false
   },
   "outputs": [
    {
     "name": "stdout",
     "output_type": "stream",
     "text": [
      "The population mean per area in San Diego is:  89852.5\n"
     ]
    }
   ],
   "source": [
    "# Retrieve and print the population mean\n",
    "pop_mean = df2['population'].mean()\n",
    "print(\"The population mean per area in San Diego is: \", pop_mean)"
   ]
  },
  {
   "cell_type": "code",
   "execution_count": 30,
   "metadata": {
    "collapsed": false
   },
   "outputs": [],
   "source": [
    "# Create another linear model, this time predicting discharge rate from income and population\n",
    "outcome_2, predictors_2 = patsy.dmatrices('total_rate_edd ~ pph_income + population', df2)\n",
    "mod_2 = sm.OLS(outcome_2, predictors_2)\n",
    "res_2 = mod_2.fit()"
   ]
  },
  {
   "cell_type": "code",
   "execution_count": 31,
   "metadata": {
    "collapsed": false,
    "scrolled": false
   },
   "outputs": [
    {
     "name": "stdout",
     "output_type": "stream",
     "text": [
      "                            OLS Regression Results                            \n",
      "==============================================================================\n",
      "Dep. Variable:         total_rate_edd   R-squared:                       0.467\n",
      "Model:                            OLS   Adj. R-squared:                  0.433\n",
      "Method:                 Least Squares   F-statistic:                     13.59\n",
      "Date:                Mon, 05 Jun 2017   Prob (F-statistic):           5.77e-05\n",
      "Time:                        22:54:53   Log-Likelihood:                -156.23\n",
      "No. Observations:                  34   AIC:                             318.5\n",
      "Df Residuals:                      31   BIC:                             323.0\n",
      "Df Model:                           2                                         \n",
      "Covariance Type:            nonrobust                                         \n",
      "==============================================================================\n",
      "                 coef    std err          t      P>|t|      [0.025      0.975]\n",
      "------------------------------------------------------------------------------\n",
      "Intercept    100.7031     16.625      6.057      0.000      66.796     134.610\n",
      "pph_income    -0.0019      0.000     -4.201      0.000      -0.003      -0.001\n",
      "population     0.0002   8.18e-05      1.977      0.057    -5.1e-06       0.000\n",
      "==============================================================================\n",
      "Omnibus:                       14.203   Durbin-Watson:                   2.001\n",
      "Prob(Omnibus):                  0.001   Jarque-Bera (JB):               16.033\n",
      "Skew:                           1.221   Prob(JB):                     0.000330\n",
      "Kurtosis:                       5.315   Cond. No.                     4.15e+05\n",
      "==============================================================================\n",
      "\n",
      "Warnings:\n",
      "[1] Standard Errors assume that the covariance matrix of the errors is correctly specified.\n",
      "[2] The condition number is large, 4.15e+05. This might indicate that there are\n",
      "strong multicollinearity or other numerical problems.\n"
     ]
    }
   ],
   "source": [
    "print(res_2.summary())"
   ]
  },
  {
   "cell_type": "markdown",
   "metadata": {},
   "source": [
    "This shows population is no real confound, but can also reasonably predict discharge rate.\n",
    "\n",
    "Perhaps lower income areas do not check in at a hospital as often too due to cost or health insurance, but we do not have data that would let us check this, and it would only help our case if true. \n",
    "\n",
    "Also, hospitals in areas of lower income may have less hospitalization from people there not being able to afford it.\n",
    "\n",
    "## Plot comparisons to a normal distribution\n",
    "\n",
    "Our sample sizes are less than 50, so we do not have enough data to reject the null hypothesis; the number of samples are too small to find enough evidence of a normal distribution.\n",
    "\n",
    "We can still compare to a normal distribution. and this data tells us that although a small sample size, it is still not too far from normal."
   ]
  },
  {
   "cell_type": "code",
   "execution_count": 32,
   "metadata": {
    "collapsed": false
   },
   "outputs": [],
   "source": [
    "# Import functions for testing distributions, clustering, and dimensionality reduction.\n",
    "import scipy.stats as stats\n",
    "from scipy.stats import normaltest\n",
    "from sklearn.cluster import KMeans\n",
    "from scipy.cluster.vq import whiten\n",
    "from sklearn.decomposition import PCA\n",
    "from sklearn import datasets, linear_model"
   ]
  },
  {
   "cell_type": "code",
   "execution_count": 33,
   "metadata": {
    "collapsed": false,
    "scrolled": true
   },
   "outputs": [
    {
     "data": {
      "text/plain": [
       "<matplotlib.legend.Legend at 0x2637db06d68>"
      ]
     },
     "execution_count": 33,
     "metadata": {},
     "output_type": "execute_result"
    },
    {
     "data": {
      "image/png": "[encoded data removed]",
      "text/plain": [
       "<matplotlib.figure.Figure at 0x2637e332438>"
      ]
     },
     "metadata": {},
     "output_type": "display_data"
    }
   ],
   "source": [
    "xs = np.arange(edd_rate_below.min(), edd_rate_below.max(), 0.1)\n",
    "fit = stats.norm.pdf(xs, np.mean(edd_rate_below), np.std(edd_rate_below))\n",
    "plt.plot(xs, fit, label='Normal Dist.', lw=3)\n",
    "plt.hist(edd_rate_below, normed=True, label='Actual Data')\n",
    "plt.legend()"
   ]
  },
  {
   "cell_type": "code",
   "execution_count": 34,
   "metadata": {
    "collapsed": false
   },
   "outputs": [
    {
     "data": {
      "text/plain": [
       "<matplotlib.legend.Legend at 0x2637dc10da0>"
      ]
     },
     "execution_count": 34,
     "metadata": {},
     "output_type": "execute_result"
    },
    {
     "data": {
      "image/png": "[encoded data removed]",
      "text/plain": [
       "<matplotlib.figure.Figure at 0x2637e33db70>"
      ]
     },
     "metadata": {},
     "output_type": "display_data"
    }
   ],
   "source": [
    "xs = np.arange(edd_rate_above.min(), edd_rate_above.max(), 0.1)\n",
    "fit = stats.norm.pdf(xs, np.mean(edd_rate_above), np.std(edd_rate_above))\n",
    "plt.plot(xs, fit, label='Normal Dist.', lw=3)\n",
    "plt.hist(edd_rate_above, normed=True, label='Actual Data')\n",
    "plt.legend()"
   ]
  },
  {
   "cell_type": "markdown",
   "metadata": {},
   "source": [
    "## Clustering Income and discharge Rate\n",
    "\n",
    "We are focusing on discharge rate since hospitalization most likely had other factors reducing its correlation with poverty and income. The kmeans cluster better shows the polarity between low and high discharge rates and income. It may not be as useful as linear regression here but an income value can well predict whether the rate of flu cases is high or low."
   ]
  },
  {
   "cell_type": "code",
   "execution_count": 35,
   "metadata": {
    "collapsed": false
   },
   "outputs": [],
   "source": [
    "# Get required data\n",
    "d1 = df['pph_income'].values\n",
    "d2 = df['total_rate_edd'].values"
   ]
  },
  {
   "cell_type": "code",
   "execution_count": 36,
   "metadata": {
    "collapsed": false
   },
   "outputs": [],
   "source": [
    "# Whiten the data\n",
    "d1w = whiten(d1)\n",
    "d2w = whiten(d2)"
   ]
  },
  {
   "cell_type": "code",
   "execution_count": 37,
   "metadata": {
    "collapsed": false
   },
   "outputs": [
    {
     "data": {
      "text/plain": [
       "<matplotlib.text.Text at 0x2637e218cc0>"
      ]
     },
     "execution_count": 37,
     "metadata": {},
     "output_type": "execute_result"
    },
    {
     "data": {
      "image/png": "[encoded data removed]",
      "text/plain": [
       "<matplotlib.figure.Figure at 0x2637e425f28>"
      ]
     },
     "metadata": {},
     "output_type": "display_data"
    }
   ],
   "source": [
    "# Initialize kmeans, fit, and plot data\n",
    "km = KMeans(n_clusters = 2, random_state = 42)\n",
    "cl_dat = np.array([d1w, d2w]).T\n",
    "km.fit(cl_dat)\n",
    "plt.scatter(d1, d2, c=km.labels_)\n",
    "plt.xlabel('PPH Income')\n",
    "plt.ylabel('Discharge Rate')"
   ]
  },
  {
   "cell_type": "markdown",
   "metadata": {},
   "source": [
    "## Finding a linear regression fit\n",
    "\n",
    "Here we find a regression fit between the discharge rate and income. This will be the best way to decently determine "
   ]
  },
  {
   "cell_type": "code",
   "execution_count": 38,
   "metadata": {
    "collapsed": false
   },
   "outputs": [
    {
     "data": {
      "text/plain": [
       "LinearRegression(copy_X=True, fit_intercept=True, n_jobs=1, normalize=False)"
      ]
     },
     "execution_count": 38,
     "metadata": {},
     "output_type": "execute_result"
    }
   ],
   "source": [
    "# Retrieve the data we need to fit\n",
    "x_edd = df['total_rate_edd'].values.reshape(-1, 1)\n",
    "y_income = df['pph_income'].values.reshape(-1, 1)\n",
    "\n",
    "# Fit the model\n",
    "regr = linear_model.LinearRegression()\n",
    "regr.fit(x_edd, y_income)"
   ]
  },
  {
   "cell_type": "code",
   "execution_count": 39,
   "metadata": {
    "collapsed": false
   },
   "outputs": [
    {
     "data": {
      "image/png": "[encoded data removed]",
      "text/plain": [
       "<matplotlib.figure.Figure at 0x2637e282630>"
      ]
     },
     "metadata": {},
     "output_type": "display_data"
    }
   ],
   "source": [
    "# Plot the linear regression model\n",
    "plt.scatter(x_edd, y_income,  color='black')\n",
    "plt.plot(x_edd, regr.predict(x_edd), color='blue',\n",
    "         linewidth=3)\n",
    "plt.xlabel('Discharge Rate')\n",
    "plt.ylabel('PPH Income')\n",
    "plt.xticks(())\n",
    "plt.yticks(())\n",
    "\n",
    "plt.show()"
   ]
  },
  {
   "cell_type": "markdown",
   "metadata": {},
   "source": [
    "## Dimensionality Reduction\n",
    "\n",
    "Combine the poverty rate with the discharge rate into one value."
   ]
  },
  {
   "cell_type": "code",
   "execution_count": 40,
   "metadata": {
    "collapsed": false,
    "scrolled": true
   },
   "outputs": [
    {
     "data": {
      "image/png": "[encoded data removed]",
      "text/plain": [
       "<matplotlib.figure.Figure at 0x2637db27b38>"
      ]
     },
     "metadata": {},
     "output_type": "display_data"
    }
   ],
   "source": [
    "# Initialize the PCA model, here specifying 1 component\n",
    "pca = PCA(n_components=1, whiten=True)\n",
    "d1_h = df['total_rate_edd']\n",
    "d2_p = df['poverty_pop']\n",
    "dat = np.array([d1_h, d2_p]).T\n",
    "out = pca.fit_transform(dat)\n",
    "plt.plot(out, '.');"
   ]
  },
  {
   "cell_type": "markdown",
   "metadata": {},
   "source": [
    "# Conclusion\n",
    "\n",
    "We have high confidence we were able to find an accurate correlation. We could not think of many more confounds than the ones we already did, and the ones we did come up with ended up not affecting the dependency anyway. We used a t-test to check whether or not discharge rate is dependent on salary, which did end up turning out to be true. The hospitalization rate however did not have a significant enough value. We expect it's because people in lower income areas do not see the worth in spending extra money to remain in the hospital, which will balance high and low income areas rate. We also made sure population size, a large determinant in the spread of communicable diseases, did not affect the data to the same extent. Luckily, although it too was fairly effective at predicting the number of people with the flu, the poverty rate kept an even stronger correlation. Therefore, we were able to retain our hypothesis that the rate of flu cases and income have an affect on one another.\n",
    "\n",
    "By nowing which areas are likely to have a greater flu outbreak we know where to promote free services like flu vaccinations. This does not solve the root of the problem but will lower its spread. It isn't completely obvious what the cause of the flu is, but we can assume some things common in places less priviliged. Lack of hygiene may be the greatest factor here. If someone can't afford water to clean themselves or a new change of clothes in a reasonable timeframe, they are much more likely to spread some communicable disease like the flu. Much of this part of solving the problem is up to those who work in public health and the government in general. Spreading safety measures to prevent spread of sickness and rising a region out of poverty are both very important.\n",
    "\n",
    "Although we focused our project on the flu, we believe the same correlation would happen with any other communicable disease. So it spreads beyond this one sickness, giving this comparison an even greater significance. Although we focused our exploration on San Diego County alone, we are be interested in what the result spreading across the all of the United States would be like. More data can only give us more certainty on the end result."
   ]
  }
 ],
 "metadata": {
  "kernelspec": {
   "display_name": "Python 3",
   "language": "python",
   "name": "python3"
  },
  "language_info": {
   "codemirror_mode": {
    "name": "ipython",
    "version": 3
   },
   "file_extension": ".py",
   "mimetype": "text/x-python",
   "name": "python",
   "nbconvert_exporter": "python",
   "pygments_lexer": "ipython3",
   "version": "3.6.0"
  }
 },
 "nbformat": 4,
 "nbformat_minor": 2
}
