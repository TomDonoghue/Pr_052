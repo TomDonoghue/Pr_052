{
 "cells": [
  {
   "cell_type": "markdown",
   "metadata": {},
   "source": [
    "# COGS 108 - Capstone Project\n",
    "## Group Members:\n",
    "- Vincent Tierra   - A12654756\n",
    "- Adrian Herrmann  - A14202007\n",
    "- Lynley Yamaguchi - A12209358\n",
    "\n"
   ]
  },
  {
   "cell_type": "code",
   "execution_count": 82,
   "metadata": {
    "collapsed": true
   },
   "outputs": [],
   "source": [
    "# Imports -  These are all you need for the assignment: do not import additional packages\n",
    "%matplotlib inline\n",
    "\n",
    "import pandas as pd\n",
    "import numpy as np\n",
    "import matplotlib.pyplot as plt\n",
    "from mpl_toolkits.mplot3d import Axes3D\n",
    "import patsy\n",
    "import statsmodels.api as sm\n",
    "from scipy.stats import ttest_ind"
   ]
  },
  {
   "cell_type": "markdown",
   "metadata": {},
   "source": [
    "## Part 1: Load & Clean the Data"
   ]
  },
  {
   "cell_type": "code",
   "execution_count": 83,
   "metadata": {
    "collapsed": false
   },
   "outputs": [],
   "source": [
    "# Import the data from the files into Dataframes\n",
    "\n",
    "df_edd = pd.read_csv('FluEDD.csv')\n",
    "df_h = pd.read_csv('FluHospitalization.csv')\n",
    "df_poverty = pd.read_csv('SDPoverty.csv')\n",
    "df_median_income = pd.read_csv('SDMedianIncome.csv')"
   ]
  },
  {
   "cell_type": "code",
   "execution_count": 84,
   "metadata": {
    "collapsed": false
   },
   "outputs": [],
   "source": [
    "# Replace NaN values with 0 \n",
    "\n",
    "df_edd.fillna(value=0, inplace=True)\n",
    "df_h.fillna(value=0, inplace=True)\n",
    "df_poverty.fillna(value=0,inplace=True)"
   ]
  },
  {
   "cell_type": "code",
   "execution_count": 85,
   "metadata": {
    "collapsed": false
   },
   "outputs": [],
   "source": [
    "# Drop unnecessary columns in hospital and discharge dataframe\n",
    "df_h.drop(['CONDITION', 'OUTCOME'], axis=1, inplace=True)\n",
    "df_edd.drop(['CONDITION', 'OUTCOME'], axis=1, inplace=True)"
   ]
  },
  {
   "cell_type": "code",
   "execution_count": 86,
   "metadata": {
    "collapsed": false
   },
   "outputs": [],
   "source": [
    "# Drop unnecessary columns in poverty dataframe\n",
    "df_p = df_poverty.drop(['Families below poverty level','Families with children under 18 years below poverty level'], axis=1)\n",
    "\n",
    "# Drop unnecessary columns in median income dataframe\n",
    "df_median_income.drop(['median_household_income', 'persons_per_household'], axis = 1, inplace = True)\n",
    "df_median_income = df_median_income[df_median_income['Geography'] != 'San Diego County']"
   ]
  },
  {
   "cell_type": "code",
   "execution_count": 87,
   "metadata": {
    "collapsed": false
   },
   "outputs": [],
   "source": [
    "# Create Dataframe with needed columns\n",
    "df_h = df_h[['YEAR', 'Geography', 'RegionName', 'Total_Rate']]\n",
    "df_edd = df_edd[['YEAR', 'Geography', 'RegionName', 'Total_Rate']]\n",
    "\n",
    "# Group the Geographies to get the average rate over all 4 years (for mean)\n",
    "df_h_mean = df_h.drop('YEAR', axis=1)\n",
    "df_edd_mean = df_edd.drop('YEAR', axis=1)\n",
    "df_h_mean = df_h_mean.groupby(['Geography', 'RegionName'], as_index=False).mean()\n",
    "df_edd_mean = df_edd_mean.groupby(['Geography', 'RegionName'], as_index=False).mean()\n",
    "\n",
    "# Drop regions which are only the total of other regions (repetitive)\n",
    "df_h_mean.drop([3, 9, 25, 26, 27, 36, 41], axis = 0, inplace=True)\n",
    "df_h_mean = df_h_mean.reset_index(drop=True)\n",
    "df_edd_mean.drop([3, 9, 25, 26, 27, 36, 41], axis=0, inplace=True)\n",
    "df_edd_mean = df_edd_mean.reset_index(drop=True)\n",
    "df_p_mean = df_p.drop([0, 4, 16, 24, 30, 41], axis = 0)\n",
    "df_p_mean = df_p_mean.reset_index(drop = True)"
   ]
  },
  {
   "cell_type": "code",
   "execution_count": 88,
   "metadata": {
    "collapsed": false
   },
   "outputs": [],
   "source": [
    "# Rename the total rate for h and edd\n",
    "df_h = df_h.rename(columns={ 'Total_Rate' : 'total_rate_h'})\n",
    "df_edd = df_edd.rename(columns={ 'Total_Rate' : 'total_rate_edd'})\n",
    "df_h_mean = df_h_mean.rename(columns={ 'Total_Rate' : 'total_rate_h'})\n",
    "df_edd_mean = df_edd_mean.rename(columns={ 'Total_Rate' : 'total_rate_edd'})"
   ]
  },
  {
   "cell_type": "code",
   "execution_count": 89,
   "metadata": {
    "collapsed": false,
    "scrolled": false
   },
   "outputs": [],
   "source": [
    "# Merge flu case, poverty, and median income data into one Dataframe\n",
    "df = df_median_income.merge(df_h_mean.merge(df_edd_mean, how='left', on=['Geography', 'RegionName']), how='right', on='Geography')\n",
    "df = df_p_mean.merge(df, how='right', on='Geography')\n",
    "df.rename(columns={'Geography': 'geography', 'RegionName' : 'region_name',  'Population below 100% federal poverty level (FPL)' \\\n",
    "                   : 'poverty_pop'}, inplace=True)\n",
    "\n",
    "# For separate years\n",
    "# Merge hospital data and poverty data into one Dataframe\n",
    "df_hp = pd.merge(df_h,df_p,on='Geography')\n",
    "\n",
    "# Manually enter some missing data\n",
    "df.set_value(40, 'pph_income', 27040 + 19341)\n",
    "df.set_value(39, 'pph_income', 33196)\n",
    "df.set_value(40, 'poverty_pop', 10.3 + 21.8)\n",
    "df.set_value(39, 'poverty_pop', 6.7)\n",
    "df.set_value(38, 'poverty_pop', 24.5)\n",
    "df.set_value(37, 'poverty_pop', 5.1)\n",
    "df.set_value(36, 'poverty_pop', 11.5)\n",
    "df.dropna(inplace=True)"
   ]
  },
  {
   "cell_type": "code",
   "execution_count": 90,
   "metadata": {
    "collapsed": false
   },
   "outputs": [
    {
     "data": {
      "text/html": [
       "<div>\n",
       "<table border=\"1\" class=\"dataframe\">\n",
       "  <thead>\n",
       "    <tr style=\"text-align: right;\">\n",
       "      <th></th>\n",
       "      <th>geography</th>\n",
       "      <th>poverty_pop</th>\n",
       "      <th>pph_income</th>\n",
       "      <th>region_name</th>\n",
       "      <th>total_rate_h</th>\n",
       "      <th>total_rate_edd</th>\n",
       "    </tr>\n",
       "  </thead>\n",
       "  <tbody>\n",
       "    <tr>\n",
       "      <th>0</th>\n",
       "      <td>Central San Diego</td>\n",
       "      <td>20.9</td>\n",
       "      <td>30516.0</td>\n",
       "      <td>CENTRAL</td>\n",
       "      <td>11.378619</td>\n",
       "      <td>69.931862</td>\n",
       "    </tr>\n",
       "    <tr>\n",
       "      <th>1</th>\n",
       "      <td>Mid-City</td>\n",
       "      <td>26.1</td>\n",
       "      <td>17541.0</td>\n",
       "      <td>CENTRAL</td>\n",
       "      <td>12.626990</td>\n",
       "      <td>84.877651</td>\n",
       "    </tr>\n",
       "    <tr>\n",
       "      <th>2</th>\n",
       "      <td>Southeastern San Diego</td>\n",
       "      <td>21.6</td>\n",
       "      <td>14444.0</td>\n",
       "      <td>CENTRAL</td>\n",
       "      <td>12.424052</td>\n",
       "      <td>111.980785</td>\n",
       "    </tr>\n",
       "    <tr>\n",
       "      <th>3</th>\n",
       "      <td>Alpine</td>\n",
       "      <td>8.7</td>\n",
       "      <td>31613.0</td>\n",
       "      <td>EAST</td>\n",
       "      <td>0.000000</td>\n",
       "      <td>37.622708</td>\n",
       "    </tr>\n",
       "    <tr>\n",
       "      <th>4</th>\n",
       "      <td>El Cajon</td>\n",
       "      <td>21.8</td>\n",
       "      <td>19341.0</td>\n",
       "      <td>EAST</td>\n",
       "      <td>13.295462</td>\n",
       "      <td>62.213675</td>\n",
       "    </tr>\n",
       "    <tr>\n",
       "      <th>5</th>\n",
       "      <td>Jamul</td>\n",
       "      <td>7.8</td>\n",
       "      <td>35779.0</td>\n",
       "      <td>EAST</td>\n",
       "      <td>0.000000</td>\n",
       "      <td>86.859562</td>\n",
       "    </tr>\n",
       "    <tr>\n",
       "      <th>6</th>\n",
       "      <td>La Mesa</td>\n",
       "      <td>12.0</td>\n",
       "      <td>24951.0</td>\n",
       "      <td>EAST</td>\n",
       "      <td>19.122542</td>\n",
       "      <td>70.301535</td>\n",
       "    </tr>\n",
       "    <tr>\n",
       "      <th>7</th>\n",
       "      <td>Lakeside</td>\n",
       "      <td>11.1</td>\n",
       "      <td>25063.0</td>\n",
       "      <td>EAST</td>\n",
       "      <td>3.058264</td>\n",
       "      <td>43.094199</td>\n",
       "    </tr>\n",
       "    <tr>\n",
       "      <th>8</th>\n",
       "      <td>Lemon Grove</td>\n",
       "      <td>15.2</td>\n",
       "      <td>19266.0</td>\n",
       "      <td>EAST</td>\n",
       "      <td>11.622501</td>\n",
       "      <td>90.653971</td>\n",
       "    </tr>\n",
       "    <tr>\n",
       "      <th>9</th>\n",
       "      <td>Mountain Empire</td>\n",
       "      <td>21.2</td>\n",
       "      <td>19672.0</td>\n",
       "      <td>EAST</td>\n",
       "      <td>0.000000</td>\n",
       "      <td>17.466232</td>\n",
       "    </tr>\n",
       "    <tr>\n",
       "      <th>10</th>\n",
       "      <td>Santee</td>\n",
       "      <td>8.0</td>\n",
       "      <td>28310.0</td>\n",
       "      <td>EAST</td>\n",
       "      <td>9.107853</td>\n",
       "      <td>51.466463</td>\n",
       "    </tr>\n",
       "    <tr>\n",
       "      <th>11</th>\n",
       "      <td>Spring Valley</td>\n",
       "      <td>13.2</td>\n",
       "      <td>22627.0</td>\n",
       "      <td>EAST</td>\n",
       "      <td>8.208334</td>\n",
       "      <td>68.216132</td>\n",
       "    </tr>\n",
       "    <tr>\n",
       "      <th>12</th>\n",
       "      <td>Del Mar-Mira Mesa</td>\n",
       "      <td>6.3</td>\n",
       "      <td>39136.0</td>\n",
       "      <td>N CENTRAL</td>\n",
       "      <td>7.195358</td>\n",
       "      <td>31.403106</td>\n",
       "    </tr>\n",
       "    <tr>\n",
       "      <th>13</th>\n",
       "      <td>Kearny Mesa</td>\n",
       "      <td>13.8</td>\n",
       "      <td>27608.0</td>\n",
       "      <td>N CENTRAL</td>\n",
       "      <td>11.287159</td>\n",
       "      <td>70.993003</td>\n",
       "    </tr>\n",
       "    <tr>\n",
       "      <th>14</th>\n",
       "      <td>Peninsula</td>\n",
       "      <td>10.2</td>\n",
       "      <td>36935.0</td>\n",
       "      <td>N CENTRAL</td>\n",
       "      <td>1.990002</td>\n",
       "      <td>23.812054</td>\n",
       "    </tr>\n",
       "    <tr>\n",
       "      <th>15</th>\n",
       "      <td>University</td>\n",
       "      <td>22.9</td>\n",
       "      <td>33840.0</td>\n",
       "      <td>N CENTRAL</td>\n",
       "      <td>6.563813</td>\n",
       "      <td>37.412139</td>\n",
       "    </tr>\n",
       "    <tr>\n",
       "      <th>16</th>\n",
       "      <td>Carlsbad</td>\n",
       "      <td>10.4</td>\n",
       "      <td>35452.0</td>\n",
       "      <td>N COASTAL</td>\n",
       "      <td>5.735095</td>\n",
       "      <td>42.423500</td>\n",
       "    </tr>\n",
       "    <tr>\n",
       "      <th>17</th>\n",
       "      <td>Oceanside</td>\n",
       "      <td>14.7</td>\n",
       "      <td>22543.0</td>\n",
       "      <td>N COASTAL</td>\n",
       "      <td>8.062086</td>\n",
       "      <td>96.427121</td>\n",
       "    </tr>\n",
       "    <tr>\n",
       "      <th>18</th>\n",
       "      <td>San Dieguito</td>\n",
       "      <td>8.3</td>\n",
       "      <td>42388.0</td>\n",
       "      <td>N COASTAL</td>\n",
       "      <td>6.496004</td>\n",
       "      <td>43.659499</td>\n",
       "    </tr>\n",
       "    <tr>\n",
       "      <th>19</th>\n",
       "      <td>Vista</td>\n",
       "      <td>16.7</td>\n",
       "      <td>18385.0</td>\n",
       "      <td>N COASTAL</td>\n",
       "      <td>7.570894</td>\n",
       "      <td>104.319989</td>\n",
       "    </tr>\n",
       "    <tr>\n",
       "      <th>20</th>\n",
       "      <td>Escondido</td>\n",
       "      <td>17.6</td>\n",
       "      <td>19976.0</td>\n",
       "      <td>N INLAND</td>\n",
       "      <td>15.727572</td>\n",
       "      <td>66.755569</td>\n",
       "    </tr>\n",
       "    <tr>\n",
       "      <th>21</th>\n",
       "      <td>Fallbrook</td>\n",
       "      <td>16.2</td>\n",
       "      <td>23686.0</td>\n",
       "      <td>N INLAND</td>\n",
       "      <td>5.678650</td>\n",
       "      <td>49.809367</td>\n",
       "    </tr>\n",
       "    <tr>\n",
       "      <th>22</th>\n",
       "      <td>North San Diego</td>\n",
       "      <td>4.9</td>\n",
       "      <td>36284.0</td>\n",
       "      <td>N INLAND</td>\n",
       "      <td>13.334754</td>\n",
       "      <td>42.306686</td>\n",
       "    </tr>\n",
       "    <tr>\n",
       "      <th>23</th>\n",
       "      <td>Palomar-Julian</td>\n",
       "      <td>16.2</td>\n",
       "      <td>32195.0</td>\n",
       "      <td>N INLAND</td>\n",
       "      <td>0.000000</td>\n",
       "      <td>18.985419</td>\n",
       "    </tr>\n",
       "    <tr>\n",
       "      <th>24</th>\n",
       "      <td>Ramona</td>\n",
       "      <td>8.0</td>\n",
       "      <td>28289.0</td>\n",
       "      <td>N INLAND</td>\n",
       "      <td>6.279479</td>\n",
       "      <td>44.207255</td>\n",
       "    </tr>\n",
       "    <tr>\n",
       "      <th>25</th>\n",
       "      <td>San Marcos</td>\n",
       "      <td>15.7</td>\n",
       "      <td>20092.0</td>\n",
       "      <td>N INLAND</td>\n",
       "      <td>7.375737</td>\n",
       "      <td>61.371413</td>\n",
       "    </tr>\n",
       "    <tr>\n",
       "      <th>26</th>\n",
       "      <td>Valley Center</td>\n",
       "      <td>12.4</td>\n",
       "      <td>27962.0</td>\n",
       "      <td>N INLAND</td>\n",
       "      <td>8.451299</td>\n",
       "      <td>29.635208</td>\n",
       "    </tr>\n",
       "    <tr>\n",
       "      <th>27</th>\n",
       "      <td>Chula Vista</td>\n",
       "      <td>19.0</td>\n",
       "      <td>16164.0</td>\n",
       "      <td>SOUTH</td>\n",
       "      <td>22.588285</td>\n",
       "      <td>170.312633</td>\n",
       "    </tr>\n",
       "    <tr>\n",
       "      <th>28</th>\n",
       "      <td>Coronado</td>\n",
       "      <td>6.0</td>\n",
       "      <td>52151.0</td>\n",
       "      <td>SOUTH</td>\n",
       "      <td>0.000000</td>\n",
       "      <td>38.469871</td>\n",
       "    </tr>\n",
       "    <tr>\n",
       "      <th>29</th>\n",
       "      <td>South Bay</td>\n",
       "      <td>18.5</td>\n",
       "      <td>14673.0</td>\n",
       "      <td>SOUTH</td>\n",
       "      <td>14.708436</td>\n",
       "      <td>113.623840</td>\n",
       "    </tr>\n",
       "    <tr>\n",
       "      <th>30</th>\n",
       "      <td>Sweetwater</td>\n",
       "      <td>7.5</td>\n",
       "      <td>28465.0</td>\n",
       "      <td>SOUTH</td>\n",
       "      <td>2.289668</td>\n",
       "      <td>52.391688</td>\n",
       "    </tr>\n",
       "    <tr>\n",
       "      <th>31</th>\n",
       "      <td>Coastal</td>\n",
       "      <td>11.5</td>\n",
       "      <td>50467.0</td>\n",
       "      <td>N CENTRAL</td>\n",
       "      <td>9.224997</td>\n",
       "      <td>38.244681</td>\n",
       "    </tr>\n",
       "    <tr>\n",
       "      <th>32</th>\n",
       "      <td>Poway</td>\n",
       "      <td>5.1</td>\n",
       "      <td>38591.0</td>\n",
       "      <td>N INLAND</td>\n",
       "      <td>10.007595</td>\n",
       "      <td>37.726160</td>\n",
       "    </tr>\n",
       "    <tr>\n",
       "      <th>33</th>\n",
       "      <td>National City</td>\n",
       "      <td>24.5</td>\n",
       "      <td>12209.0</td>\n",
       "      <td>SOUTH</td>\n",
       "      <td>9.389687</td>\n",
       "      <td>108.819231</td>\n",
       "    </tr>\n",
       "    <tr>\n",
       "      <th>34</th>\n",
       "      <td>Elliott-Navajo</td>\n",
       "      <td>6.7</td>\n",
       "      <td>33196.0</td>\n",
       "      <td>N CENTRAL</td>\n",
       "      <td>9.423720</td>\n",
       "      <td>39.122035</td>\n",
       "    </tr>\n",
       "    <tr>\n",
       "      <th>35</th>\n",
       "      <td>Harbison Crest/El Cajon</td>\n",
       "      <td>32.1</td>\n",
       "      <td>46381.0</td>\n",
       "      <td>EAST</td>\n",
       "      <td>19.716238</td>\n",
       "      <td>89.583516</td>\n",
       "    </tr>\n",
       "  </tbody>\n",
       "</table>\n",
       "</div>"
      ],
      "text/plain": [
       "                  geography  poverty_pop  pph_income region_name  \\\n",
       "0         Central San Diego         20.9     30516.0     CENTRAL   \n",
       "1                  Mid-City         26.1     17541.0     CENTRAL   \n",
       "2    Southeastern San Diego         21.6     14444.0     CENTRAL   \n",
       "3                    Alpine          8.7     31613.0        EAST   \n",
       "4                  El Cajon         21.8     19341.0        EAST   \n",
       "5                     Jamul          7.8     35779.0        EAST   \n",
       "6                   La Mesa         12.0     24951.0        EAST   \n",
       "7                  Lakeside         11.1     25063.0        EAST   \n",
       "8               Lemon Grove         15.2     19266.0        EAST   \n",
       "9           Mountain Empire         21.2     19672.0        EAST   \n",
       "10                   Santee          8.0     28310.0        EAST   \n",
       "11            Spring Valley         13.2     22627.0        EAST   \n",
       "12        Del Mar-Mira Mesa          6.3     39136.0   N CENTRAL   \n",
       "13              Kearny Mesa         13.8     27608.0   N CENTRAL   \n",
       "14                Peninsula         10.2     36935.0   N CENTRAL   \n",
       "15               University         22.9     33840.0   N CENTRAL   \n",
       "16                 Carlsbad         10.4     35452.0   N COASTAL   \n",
       "17                Oceanside         14.7     22543.0   N COASTAL   \n",
       "18             San Dieguito          8.3     42388.0   N COASTAL   \n",
       "19                    Vista         16.7     18385.0   N COASTAL   \n",
       "20                Escondido         17.6     19976.0    N INLAND   \n",
       "21                Fallbrook         16.2     23686.0    N INLAND   \n",
       "22          North San Diego          4.9     36284.0    N INLAND   \n",
       "23           Palomar-Julian         16.2     32195.0    N INLAND   \n",
       "24                   Ramona          8.0     28289.0    N INLAND   \n",
       "25               San Marcos         15.7     20092.0    N INLAND   \n",
       "26            Valley Center         12.4     27962.0    N INLAND   \n",
       "27              Chula Vista         19.0     16164.0       SOUTH   \n",
       "28                 Coronado          6.0     52151.0       SOUTH   \n",
       "29                South Bay         18.5     14673.0       SOUTH   \n",
       "30               Sweetwater          7.5     28465.0       SOUTH   \n",
       "31                  Coastal         11.5     50467.0   N CENTRAL   \n",
       "32                    Poway          5.1     38591.0    N INLAND   \n",
       "33            National City         24.5     12209.0       SOUTH   \n",
       "34           Elliott-Navajo          6.7     33196.0   N CENTRAL   \n",
       "35  Harbison Crest/El Cajon         32.1     46381.0        EAST   \n",
       "\n",
       "    total_rate_h  total_rate_edd  \n",
       "0      11.378619       69.931862  \n",
       "1      12.626990       84.877651  \n",
       "2      12.424052      111.980785  \n",
       "3       0.000000       37.622708  \n",
       "4      13.295462       62.213675  \n",
       "5       0.000000       86.859562  \n",
       "6      19.122542       70.301535  \n",
       "7       3.058264       43.094199  \n",
       "8      11.622501       90.653971  \n",
       "9       0.000000       17.466232  \n",
       "10      9.107853       51.466463  \n",
       "11      8.208334       68.216132  \n",
       "12      7.195358       31.403106  \n",
       "13     11.287159       70.993003  \n",
       "14      1.990002       23.812054  \n",
       "15      6.563813       37.412139  \n",
       "16      5.735095       42.423500  \n",
       "17      8.062086       96.427121  \n",
       "18      6.496004       43.659499  \n",
       "19      7.570894      104.319989  \n",
       "20     15.727572       66.755569  \n",
       "21      5.678650       49.809367  \n",
       "22     13.334754       42.306686  \n",
       "23      0.000000       18.985419  \n",
       "24      6.279479       44.207255  \n",
       "25      7.375737       61.371413  \n",
       "26      8.451299       29.635208  \n",
       "27     22.588285      170.312633  \n",
       "28      0.000000       38.469871  \n",
       "29     14.708436      113.623840  \n",
       "30      2.289668       52.391688  \n",
       "31      9.224997       38.244681  \n",
       "32     10.007595       37.726160  \n",
       "33      9.389687      108.819231  \n",
       "34      9.423720       39.122035  \n",
       "35     19.716238       89.583516  "
      ]
     },
     "execution_count": 90,
     "metadata": {},
     "output_type": "execute_result"
    }
   ],
   "source": [
    "# Clean the dataset incase of missing values to avoid skewing\n",
    "df = df[(df['total_rate_h'] != 0) | (df['total_rate_edd'] != 0)]\n",
    "df = df.reset_index(drop=True)\n",
    "\n",
    "# Display the combined dataset for the mean rate over years\n",
    "df"
   ]
  },
  {
   "cell_type": "markdown",
   "metadata": {},
   "source": [
    "# Part 2: Exploratory Data Visualization"
   ]
  },
  {
   "cell_type": "code",
   "execution_count": null,
   "metadata": {
    "collapsed": true
   },
   "outputs": [],
   "source": [
    "fig = plt.figure()\n",
    "ax = Axes3D(fig)\n",
    "lx = len(df_hp['Geography']['YEAR'==2010])\n",
    "ly = len(df_hp['Total_Rate']['YEAR'==2010])\n",
    "xpos = np.arange(0,lx,1)\n",
    "ypos = np.arange(0,ly,1)\n",
    "xpos, ypos = np.meshgrid(xpos+0.25, ypos+0.25)\n",
    "xpos = xpos.flatten()\n",
    "ypos = ypos.flatten()\n",
    "zpos = np.zeros(lx*ly)\n",
    "dx = 0.5 * np.ones_like(zpos)\n",
    "dy = dx.copy()\n",
    "dz = df_hp.as_matrix(df_hp['poverty_pop']['YEAR'==2010]).flatten()\n",
    "\n",
    "cs = ['r', 'g', 'b', 'y', 'c'] * ly\n",
    "ax.bar3d(xpos,ypos,zpos, dx, dy,dz,color=cs)"
   ]
  },
  {
   "cell_type": "code",
   "execution_count": 91,
   "metadata": {
    "collapsed": false
   },
   "outputs": [
    {
     "data": {
      "image/png": "[encoded data removed]",
      "text/plain": [
       "<matplotlib.figure.Figure at 0x2b403788ba8>"
      ]
     },
     "metadata": {},
     "output_type": "display_data"
    }
   ],
   "source": [
    "# Plot the scatter matrix for all data\n",
    "fig = pd.scatter_matrix(df)"
   ]
  },
  {
   "cell_type": "code",
   "execution_count": 92,
   "metadata": {
    "collapsed": false
   },
   "outputs": [
    {
     "data": {
      "image/png": "[encoded data removed]",
      "text/plain": [
       "<matplotlib.figure.Figure at 0x2b403462da0>"
      ]
     },
     "metadata": {},
     "output_type": "display_data"
    }
   ],
   "source": [
    "# Define correlations and columns\n",
    "correlations = df.corr()\n",
    "columns = ['poverty_pop', 'pph_income', 'total_rate_h', 'total_rate_edd']\n",
    "\n",
    "# Plot the correlation matrix\n",
    "fig = plt.figure()\n",
    "ax = fig.add_subplot(1, 1, 1)\n",
    "cax = ax.matshow(correlations, vmin=-1, vmax=1)\n",
    "fig.colorbar(cax)\n",
    "ticks = np.arange(0, 4, 1)\n",
    "ax.set_xticks(ticks)\n",
    "ax.set_yticks(ticks)\n",
    "ax.set_xticklabels(columns)\n",
    "ax.set_yticklabels(columns)\n",
    "plt.show()"
   ]
  },
  {
   "cell_type": "code",
   "execution_count": 93,
   "metadata": {
    "collapsed": false,
    "scrolled": true
   },
   "outputs": [
    {
     "data": {
      "image/png": "[encoded data removed]",
      "text/plain": [
       "<matplotlib.figure.Figure at 0x2b40373efd0>"
      ]
     },
     "metadata": {},
     "output_type": "display_data"
    }
   ],
   "source": [
    "# Use density plots to view the data\n",
    "df.plot(kind='density', subplots=True, sharex=False)\n",
    "plt.show()"
   ]
  },
  {
   "cell_type": "code",
   "execution_count": 94,
   "metadata": {
    "collapsed": false,
    "scrolled": true
   },
   "outputs": [
    {
     "data": {
      "image/png": "[encoded data removed]",
      "text/plain": [
       "<matplotlib.figure.Figure at 0x2b4034f96d8>"
      ]
     },
     "metadata": {},
     "output_type": "display_data"
    }
   ],
   "source": [
    "# Plot histogram for hospitalized and discharged patients as one\n",
    "df['total_rate_h'].add(df['total_rate_edd']).hist()\n",
    "\n",
    "f1 = plt.gcf"
   ]
  },
  {
   "cell_type": "code",
   "execution_count": 95,
   "metadata": {
    "collapsed": false,
    "scrolled": true
   },
   "outputs": [
    {
     "data": {
      "image/png": "[encoded data removed]",
      "text/plain": [
       "<matplotlib.figure.Figure at 0x2b402eb8860>"
      ]
     },
     "metadata": {},
     "output_type": "display_data"
    }
   ],
   "source": [
    "# Plot histogram for poverty\n",
    "df['poverty_pop'].hist()\n",
    "\n",
    "f2 = plt.gcf"
   ]
  },
  {
   "cell_type": "code",
   "execution_count": 96,
   "metadata": {
    "collapsed": false
   },
   "outputs": [
    {
     "data": {
      "image/png": "[encoded data removed]",
      "text/plain": [
       "<matplotlib.figure.Figure at 0x2b403f6db38>"
      ]
     },
     "metadata": {},
     "output_type": "display_data"
    }
   ],
   "source": [
    "# Plot histogram for person per household income\n",
    "df['pph_income'].hist()\n",
    "\n",
    "f3 = plt.gcf"
   ]
  },
  {
   "cell_type": "markdown",
   "metadata": {},
   "source": [
    "## Part 3: Exploring The Data\n"
   ]
  },
  {
   "cell_type": "code",
   "execution_count": 97,
   "metadata": {
    "collapsed": false
   },
   "outputs": [
    {
     "data": {
      "text/plain": [
       "0.3888888888888889"
      ]
     },
     "execution_count": 97,
     "metadata": {},
     "output_type": "execute_result"
    }
   ],
   "source": [
    "# Check how many areas have a median below the poverty income level ($24,600)\n",
    "n_poverty = len(df[df['pph_income'] <= 24600]['pph_income'])\n",
    "\n",
    "# Ratio of areas with median income below poverty income level\n",
    "n_poverty/len(df['pph_income'])"
   ]
  },
  {
   "cell_type": "code",
   "execution_count": 98,
   "metadata": {
    "collapsed": false
   },
   "outputs": [
    {
     "name": "stdout",
     "output_type": "stream",
     "text": [
      "Area With Greatest Income: Coronado\n",
      "Person Per Household Income: 52151.0\n",
      "Flu Hospitalization Rate: 0.0\n",
      "Flu Discharge Rate: 38.46987107\n",
      "\n",
      "Area With Lowest Income: National City\n",
      "Person Per Household Income: 12209.0\n",
      "Flu Hospitalization Rate: 9.3896874575\n",
      "Flu Discharge Rate: 108.819230885\n"
     ]
    }
   ],
   "source": [
    "# Determine the area with the lowest and highest income\n",
    "max_i = df['pph_income'].idxmax\n",
    "min_i = df['pph_income'].idxmin\n",
    "\n",
    "# print out the information of these areas\n",
    "print('Area With Greatest Income: ' + str(df.loc[max_i, 'geography']) + '\\nPerson Per Household Income: ' + \\\n",
    "      str(df.loc[max_i, 'pph_income']) + '\\nFlu Hospitalization Rate: ' + str(df.loc[max_i, 'total_rate_h']) + \\\n",
    "      '\\nFlu Discharge Rate: ' + str(df.loc[max_i, 'total_rate_edd']))\n",
    "\n",
    "print('\\nArea With Lowest Income: ' + str(df.loc[min_i, 'geography']) + '\\nPerson Per Household Income: ' + \\\n",
    "      str(df.loc[min_i, 'pph_income']) + '\\nFlu Hospitalization Rate: ' + str(df.loc[min_i, 'total_rate_h']) + \\\n",
    "      '\\nFlu Discharge Rate: ' + str(df.loc[min_i, 'total_rate_edd']))"
   ]
  },
  {
   "cell_type": "markdown",
   "metadata": {},
   "source": [
    "## Part 4: Data Analysis\n"
   ]
  },
  {
   "cell_type": "code",
   "execution_count": 99,
   "metadata": {
    "collapsed": false
   },
   "outputs": [],
   "source": [
    "# Calculate the means for hospitalized and discharged patients\n",
    "h_rate_mean = df['total_rate_h'].mean()\n",
    "edd_rate_mean = df['total_rate_edd'].mean()"
   ]
  },
  {
   "cell_type": "code",
   "execution_count": 100,
   "metadata": {
    "collapsed": false
   },
   "outputs": [
    {
     "name": "stdout",
     "output_type": "stream",
     "text": [
      "Average mean flu hospitalization rate:  8.609476309124997\n",
      "Average mean flu discharge rate:  62.40277106654165\n"
     ]
    }
   ],
   "source": [
    "# Print the means\n",
    "print(\"Average mean flu hospitalization rate: \", h_rate_mean)\n",
    "print(\"Average mean flu discharge rate: \", edd_rate_mean)"
   ]
  },
  {
   "cell_type": "code",
   "execution_count": 101,
   "metadata": {
    "collapsed": false
   },
   "outputs": [],
   "source": [
    "# Create DataFrames for incomes below and above the mean rates\n",
    "h_rate_below = df[df['total_rate_h'] < h_rate_mean]['pph_income']\n",
    "h_rate_above = df[df['total_rate_h'] >= h_rate_mean]['pph_income']\n",
    "edd_rate_below = df[df['total_rate_edd'] < edd_rate_mean]['pph_income']\n",
    "edd_rate_above = df[df['total_rate_edd'] >= edd_rate_mean]['pph_income']"
   ]
  },
  {
   "cell_type": "code",
   "execution_count": 102,
   "metadata": {
    "collapsed": false
   },
   "outputs": [],
   "source": [
    "# Use t-test on incomes of areas below or above mean discharge and hospitalization rates\n",
    "t, p_h = ttest_ind(h_rate_above, h_rate_below)\n",
    "t, p_edd = ttest_ind(edd_rate_above, edd_rate_below)"
   ]
  },
  {
   "cell_type": "code",
   "execution_count": 103,
   "metadata": {
    "collapsed": false
   },
   "outputs": [
    {
     "name": "stdout",
     "output_type": "stream",
     "text": [
      "Hospitalization two-tailed p-value:  0.260852577183\n",
      "Discharge two-tailed p-value:  0.00341951931851\n"
     ]
    }
   ],
   "source": [
    "# Print the p-values\n",
    "print('Hospitalization two-tailed p-value: ', p_h)\n",
    "print('Discharge two-tailed p-value: ', p_edd)"
   ]
  },
  {
   "cell_type": "markdown",
   "metadata": {},
   "source": [
    "We have high confidence the mean income is different in areas with high vs low rates of discharge, but we must make sure this is not due to any confounding variable. Since the flu is a communicable disease, we want to check if population size makes a difference."
   ]
  },
  {
   "cell_type": "code",
   "execution_count": 104,
   "metadata": {
    "collapsed": false
   },
   "outputs": [],
   "source": [
    "# Import the population data\n",
    "df_pop = pd.read_csv('SDPopulation.csv')\n",
    "\n",
    "# Merge in separate DataFrame to avoid losing more data\n",
    "df2 = df.merge(df_pop, on='geography')"
   ]
  },
  {
   "cell_type": "code",
   "execution_count": 105,
   "metadata": {
    "collapsed": false
   },
   "outputs": [
    {
     "name": "stdout",
     "output_type": "stream",
     "text": [
      "The population mean per area in San Diego is:  89852.5\n"
     ]
    }
   ],
   "source": [
    "# Retrieve and print the population mean\n",
    "pop_mean = df2['population'].mean()\n",
    "print(\"The population mean per area in San Diego is: \", pop_mean)"
   ]
  },
  {
   "cell_type": "code",
   "execution_count": 106,
   "metadata": {
    "collapsed": true
   },
   "outputs": [],
   "source": [
    "# Create linear model to predict discharge rate from income\n",
    "outcome_1, predictors_1 = patsy.dmatrices('total_rate_edd ~ pph_income', df2)\n",
    "mod_1 = sm.OLS(outcome_1, predictors_1)\n",
    "res_1 = mod_1.fit()"
   ]
  },
  {
   "cell_type": "code",
   "execution_count": 107,
   "metadata": {
    "collapsed": false,
    "scrolled": true
   },
   "outputs": [
    {
     "name": "stdout",
     "output_type": "stream",
     "text": [
      "                            OLS Regression Results                            \n",
      "==============================================================================\n",
      "Dep. Variable:         total_rate_edd   R-squared:                       0.400\n",
      "Model:                            OLS   Adj. R-squared:                  0.381\n",
      "Method:                 Least Squares   F-statistic:                     21.34\n",
      "Date:                Mon, 05 Jun 2017   Prob (F-statistic):           5.98e-05\n",
      "Time:                        02:10:10   Log-Likelihood:                -158.25\n",
      "No. Observations:                  34   AIC:                             320.5\n",
      "Df Residuals:                      32   BIC:                             323.5\n",
      "Df Model:                           1                                         \n",
      "Covariance Type:            nonrobust                                         \n",
      "==============================================================================\n",
      "                 coef    std err          t      P>|t|      [0.025      0.975]\n",
      "------------------------------------------------------------------------------\n",
      "Intercept    121.2866     13.539      8.958      0.000      93.709     148.864\n",
      "pph_income    -0.0021      0.000     -4.620      0.000      -0.003      -0.001\n",
      "==============================================================================\n",
      "Omnibus:                        8.096   Durbin-Watson:                   1.900\n",
      "Prob(Omnibus):                  0.017   Jarque-Bera (JB):                8.337\n",
      "Skew:                           0.653   Prob(JB):                       0.0155\n",
      "Kurtosis:                       5.045   Cond. No.                     8.89e+04\n",
      "==============================================================================\n",
      "\n",
      "Warnings:\n",
      "[1] Standard Errors assume that the covariance matrix of the errors is correctly specified.\n",
      "[2] The condition number is large, 8.89e+04. This might indicate that there are\n",
      "strong multicollinearity or other numerical problems.\n"
     ]
    }
   ],
   "source": [
    "print(res_1.summary())"
   ]
  },
  {
   "cell_type": "markdown",
   "metadata": {},
   "source": [
    "Talk about the confidence value, looks like income does predict flu discharge rate"
   ]
  },
  {
   "cell_type": "code",
   "execution_count": 108,
   "metadata": {
    "collapsed": true
   },
   "outputs": [],
   "source": [
    "# Create another linear model, this time predicting discharge rate from income and population\n",
    "outcome_2, predictors_2 = patsy.dmatrices('total_rate_edd ~ pph_income + population', df2)\n",
    "mod_2 = sm.OLS(outcome_2, predictors_2)\n",
    "res_2 = mod_2.fit()"
   ]
  },
  {
   "cell_type": "code",
   "execution_count": 109,
   "metadata": {
    "collapsed": false,
    "scrolled": false
   },
   "outputs": [
    {
     "name": "stdout",
     "output_type": "stream",
     "text": [
      "                            OLS Regression Results                            \n",
      "==============================================================================\n",
      "Dep. Variable:         total_rate_edd   R-squared:                       0.467\n",
      "Model:                            OLS   Adj. R-squared:                  0.433\n",
      "Method:                 Least Squares   F-statistic:                     13.59\n",
      "Date:                Mon, 05 Jun 2017   Prob (F-statistic):           5.77e-05\n",
      "Time:                        02:10:14   Log-Likelihood:                -156.23\n",
      "No. Observations:                  34   AIC:                             318.5\n",
      "Df Residuals:                      31   BIC:                             323.0\n",
      "Df Model:                           2                                         \n",
      "Covariance Type:            nonrobust                                         \n",
      "==============================================================================\n",
      "                 coef    std err          t      P>|t|      [0.025      0.975]\n",
      "------------------------------------------------------------------------------\n",
      "Intercept    100.7031     16.625      6.057      0.000      66.796     134.610\n",
      "pph_income    -0.0019      0.000     -4.201      0.000      -0.003      -0.001\n",
      "population     0.0002   8.18e-05      1.977      0.057    -5.1e-06       0.000\n",
      "==============================================================================\n",
      "Omnibus:                       14.203   Durbin-Watson:                   2.001\n",
      "Prob(Omnibus):                  0.001   Jarque-Bera (JB):               16.033\n",
      "Skew:                           1.221   Prob(JB):                     0.000330\n",
      "Kurtosis:                       5.315   Cond. No.                     4.15e+05\n",
      "==============================================================================\n",
      "\n",
      "Warnings:\n",
      "[1] Standard Errors assume that the covariance matrix of the errors is correctly specified.\n",
      "[2] The condition number is large, 4.15e+05. This might indicate that there are\n",
      "strong multicollinearity or other numerical problems.\n"
     ]
    }
   ],
   "source": [
    "print(res_2.summary())"
   ]
  },
  {
   "cell_type": "markdown",
   "metadata": {},
   "source": [
    "This seems to show population is no real confound, but can reasonably predict discharge rate. Perhaps lower income areas do not check in at a hospital as often too due to cost or health insurance, but this would only help our case if true."
   ]
  },
  {
   "cell_type": "markdown",
   "metadata": {},
   "source": [
    "## Part 5: Discussion & Conclusions"
   ]
  },
  {
   "cell_type": "code",
   "execution_count": null,
   "metadata": {
    "collapsed": true
   },
   "outputs": [],
   "source": [
    "# You will need the following functions for the last section of the assignment\n",
    "#  You should not import any other functions\n",
    "import scipy.stats as stats\n",
    "from scipy.stats import normaltest\n",
    "from sklearn.cluster import KMeans\n",
    "from scipy.cluster.vq import whiten\n",
    "from sklearn.decomposition import PCA"
   ]
  },
  {
   "cell_type": "markdown",
   "metadata": {},
   "source": [
    "### Part 6: Testing Distributions\n"
   ]
  },
  {
   "cell_type": "markdown",
   "metadata": {},
   "source": [
    "### Part 7: Clustering"
   ]
  },
  {
   "cell_type": "markdown",
   "metadata": {},
   "source": [
    "### Part 8: Dimensionality Reduction\n"
   ]
  },
  {
   "cell_type": "code",
   "execution_count": null,
   "metadata": {
    "collapsed": true
   },
   "outputs": [],
   "source": []
  }
 ],
 "metadata": {
  "kernelspec": {
   "display_name": "Python 3",
   "language": "python",
   "name": "python3"
  },
  "language_info": {
   "codemirror_mode": {
    "name": "ipython",
    "version": 3
   },
   "file_extension": ".py",
   "mimetype": "text/x-python",
   "name": "python",
   "nbconvert_exporter": "python",
   "pygments_lexer": "ipython3",
   "version": "3.6.0"
  }
 },
 "nbformat": 4,
 "nbformat_minor": 2
}
